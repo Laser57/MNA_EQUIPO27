{
  "nbformat": 4,
  "nbformat_minor": 0,
  "metadata": {
    "colab": {
      "provenance": [],
      "collapsed_sections": [],
      "include_colab_link": true
    },
    "kernelspec": {
      "display_name": "Python 3",
      "name": "python3"
    }
  },
  "cells": [
    {
      "cell_type": "markdown",
      "metadata": {
        "id": "view-in-github",
        "colab_type": "text"
      },
      "source": [
        "<a href=\"https://colab.research.google.com/github/Laser57/MNA_EQUIPO27/blob/main/MNA_IAyAA_semana_7_Actividad.ipynb\" target=\"_parent\"><img src=\"https://colab.research.google.com/assets/colab-badge.svg\" alt=\"Open In Colab\"/></a>"
      ]
    },
    {
      "cell_type": "markdown",
      "source": [
        "#**Maestría en Inteligencia Artificial Aplicada**\n",
        "##**Curso: Inteligencia Artificial y Aprendizaje Automático**\n",
        "###Tecnológico de Monterrey\n",
        "###Prof Luis Eduardo Falcón Morales\n",
        "\n",
        "## **Adtividad de la Semana 7**\n",
        "###**Red Neuronal Artificial - Perceptrón Multicapa : Multilayer Perceptrón (MLP)**\n"
      ],
      "metadata": {
        "id": "VFj0sSM06dYa"
      }
    },
    {
      "cell_type": "markdown",
      "source": [
        "**Nombres y matrículas de los integrantes del equipo:**\n",
        "\n",
        "*   Luis Alfonso Sabanero Esquivel A01273286\n",
        "*   José Antonio Mendoza Castro    A01794067\n",
        "*   Alan Avelino Fernández Juárez  A00989308\n",
        "*   Miguel Angel Paredes Gutierrez A01794138\n",
        "*   Fernando Sebastián Sánchez Cardona A01687530\n"
      ],
      "metadata": {
        "id": "Qgrvy0RGB9XI"
      }
    },
    {
      "cell_type": "markdown",
      "source": [
        "En cada sección deberás incluir todas las líneas de código necesarias para responder a cada uno de los ejercicios."
      ],
      "metadata": {
        "id": "FrJ2ahMODVj1"
      }
    },
    {
      "cell_type": "code",
      "source": [
        "# Incluye aquí todos módulos, librerías y paquetes que requieras.\n",
        "import pandas as pd\n",
        "import numpy as np\n",
        "import matplotlib.pyplot as plt \n",
        "import seaborn as sns \n",
        "from sklearn.model_selection import train_test_split,GridSearchCV,RepeatedKFold,cross_validate\n",
        "\n",
        "from sklearn.pipeline import Pipeline\n",
        "from sklearn.impute import SimpleImputer\n",
        "from sklearn.preprocessing import FunctionTransformer,MinMaxScaler, OneHotEncoder,OrdinalEncoder,StandardScaler\n",
        "from sklearn.compose import ColumnTransformer,TransformedTargetRegressor\n",
        "from sklearn.dummy import DummyRegressor\n",
        "from sklearn.linear_model import LinearRegression\n",
        "from sklearn.ensemble import RandomForestRegressor\n",
        "from sklearn.neural_network import MLPRegressor\n",
        "from sklearn.metrics import make_scorer\n",
        "\n",
        "from sklearn.metrics import mean_absolute_percentage_error,mean_squared_error,mean_absolute_error\n",
        "from sklearn.inspection import permutation_importance\n"
      ],
      "metadata": {
        "id": "exXsscs-Dh-2"
      },
      "execution_count": 1,
      "outputs": []
    },
    {
      "cell_type": "markdown",
      "metadata": {
        "id": "X25brD-gQdZM"
      },
      "source": [
        "#**Ejercicio-1.** "
      ]
    },
    {
      "cell_type": "code",
      "source": [
        "from google.colab import drive\n",
        "drive.mount('/content/drive')"
      ],
      "metadata": {
        "colab": {
          "base_uri": "https://localhost:8080/"
        },
        "id": "2PQuaKEVtHRx",
        "outputId": "d3572a8c-ba4d-43b2-9b11-2261b421cd63"
      },
      "execution_count": 2,
      "outputs": [
        {
          "output_type": "stream",
          "name": "stdout",
          "text": [
            "Mounted at /content/drive\n"
          ]
        }
      ]
    },
    {
      "cell_type": "code",
      "source": [
        "df = pd.read_csv('/content/drive/MyDrive/Colab Notebooks/dataset_Facebook.csv', sep=';')\n",
        "df.head()"
      ],
      "metadata": {
        "id": "3nU2GuWYCy6C",
        "colab": {
          "base_uri": "https://localhost:8080/",
          "height": 421
        },
        "outputId": "dc1c6d89-e25f-49f4-90e4-8f25a54e5a36"
      },
      "execution_count": 3,
      "outputs": [
        {
          "output_type": "execute_result",
          "data": {
            "text/plain": [
              "   Page total likes    Type  Category  Post Month  Post Weekday  Post Hour  \\\n",
              "0            139441   Photo         2          12             4          3   \n",
              "1            139441  Status         2          12             3         10   \n",
              "2            139441   Photo         3          12             3          3   \n",
              "3            139441   Photo         2          12             2         10   \n",
              "4            139441   Photo         2          12             2          3   \n",
              "\n",
              "   Paid  Lifetime Post Total Reach  Lifetime Post Total Impressions  \\\n",
              "0   0.0                       2752                             5091   \n",
              "1   0.0                      10460                            19057   \n",
              "2   0.0                       2413                             4373   \n",
              "3   1.0                      50128                            87991   \n",
              "4   0.0                       7244                            13594   \n",
              "\n",
              "   Lifetime Engaged Users  Lifetime Post Consumers  \\\n",
              "0                     178                      109   \n",
              "1                    1457                     1361   \n",
              "2                     177                      113   \n",
              "3                    2211                      790   \n",
              "4                     671                      410   \n",
              "\n",
              "   Lifetime Post Consumptions  \\\n",
              "0                         159   \n",
              "1                        1674   \n",
              "2                         154   \n",
              "3                        1119   \n",
              "4                         580   \n",
              "\n",
              "   Lifetime Post Impressions by people who have liked your Page  \\\n",
              "0                                               3078              \n",
              "1                                              11710              \n",
              "2                                               2812              \n",
              "3                                              61027              \n",
              "4                                               6228              \n",
              "\n",
              "   Lifetime Post reach by people who like your Page  \\\n",
              "0                                              1640   \n",
              "1                                              6112   \n",
              "2                                              1503   \n",
              "3                                             32048   \n",
              "4                                              3200   \n",
              "\n",
              "   Lifetime People who have liked your Page and engaged with your post  \\\n",
              "0                                                119                     \n",
              "1                                               1108                     \n",
              "2                                                132                     \n",
              "3                                               1386                     \n",
              "4                                                396                     \n",
              "\n",
              "   comment    like  share  Total Interactions  \n",
              "0        4    79.0   17.0                 100  \n",
              "1        5   130.0   29.0                 164  \n",
              "2        0    66.0   14.0                  80  \n",
              "3       58  1572.0  147.0                1777  \n",
              "4       19   325.0   49.0                 393  "
            ],
            "text/html": [
              "\n",
              "  <div id=\"df-c80c7711-7c5c-4cd6-a2f3-687c6a207d37\">\n",
              "    <div class=\"colab-df-container\">\n",
              "      <div>\n",
              "<style scoped>\n",
              "    .dataframe tbody tr th:only-of-type {\n",
              "        vertical-align: middle;\n",
              "    }\n",
              "\n",
              "    .dataframe tbody tr th {\n",
              "        vertical-align: top;\n",
              "    }\n",
              "\n",
              "    .dataframe thead th {\n",
              "        text-align: right;\n",
              "    }\n",
              "</style>\n",
              "<table border=\"1\" class=\"dataframe\">\n",
              "  <thead>\n",
              "    <tr style=\"text-align: right;\">\n",
              "      <th></th>\n",
              "      <th>Page total likes</th>\n",
              "      <th>Type</th>\n",
              "      <th>Category</th>\n",
              "      <th>Post Month</th>\n",
              "      <th>Post Weekday</th>\n",
              "      <th>Post Hour</th>\n",
              "      <th>Paid</th>\n",
              "      <th>Lifetime Post Total Reach</th>\n",
              "      <th>Lifetime Post Total Impressions</th>\n",
              "      <th>Lifetime Engaged Users</th>\n",
              "      <th>Lifetime Post Consumers</th>\n",
              "      <th>Lifetime Post Consumptions</th>\n",
              "      <th>Lifetime Post Impressions by people who have liked your Page</th>\n",
              "      <th>Lifetime Post reach by people who like your Page</th>\n",
              "      <th>Lifetime People who have liked your Page and engaged with your post</th>\n",
              "      <th>comment</th>\n",
              "      <th>like</th>\n",
              "      <th>share</th>\n",
              "      <th>Total Interactions</th>\n",
              "    </tr>\n",
              "  </thead>\n",
              "  <tbody>\n",
              "    <tr>\n",
              "      <th>0</th>\n",
              "      <td>139441</td>\n",
              "      <td>Photo</td>\n",
              "      <td>2</td>\n",
              "      <td>12</td>\n",
              "      <td>4</td>\n",
              "      <td>3</td>\n",
              "      <td>0.0</td>\n",
              "      <td>2752</td>\n",
              "      <td>5091</td>\n",
              "      <td>178</td>\n",
              "      <td>109</td>\n",
              "      <td>159</td>\n",
              "      <td>3078</td>\n",
              "      <td>1640</td>\n",
              "      <td>119</td>\n",
              "      <td>4</td>\n",
              "      <td>79.0</td>\n",
              "      <td>17.0</td>\n",
              "      <td>100</td>\n",
              "    </tr>\n",
              "    <tr>\n",
              "      <th>1</th>\n",
              "      <td>139441</td>\n",
              "      <td>Status</td>\n",
              "      <td>2</td>\n",
              "      <td>12</td>\n",
              "      <td>3</td>\n",
              "      <td>10</td>\n",
              "      <td>0.0</td>\n",
              "      <td>10460</td>\n",
              "      <td>19057</td>\n",
              "      <td>1457</td>\n",
              "      <td>1361</td>\n",
              "      <td>1674</td>\n",
              "      <td>11710</td>\n",
              "      <td>6112</td>\n",
              "      <td>1108</td>\n",
              "      <td>5</td>\n",
              "      <td>130.0</td>\n",
              "      <td>29.0</td>\n",
              "      <td>164</td>\n",
              "    </tr>\n",
              "    <tr>\n",
              "      <th>2</th>\n",
              "      <td>139441</td>\n",
              "      <td>Photo</td>\n",
              "      <td>3</td>\n",
              "      <td>12</td>\n",
              "      <td>3</td>\n",
              "      <td>3</td>\n",
              "      <td>0.0</td>\n",
              "      <td>2413</td>\n",
              "      <td>4373</td>\n",
              "      <td>177</td>\n",
              "      <td>113</td>\n",
              "      <td>154</td>\n",
              "      <td>2812</td>\n",
              "      <td>1503</td>\n",
              "      <td>132</td>\n",
              "      <td>0</td>\n",
              "      <td>66.0</td>\n",
              "      <td>14.0</td>\n",
              "      <td>80</td>\n",
              "    </tr>\n",
              "    <tr>\n",
              "      <th>3</th>\n",
              "      <td>139441</td>\n",
              "      <td>Photo</td>\n",
              "      <td>2</td>\n",
              "      <td>12</td>\n",
              "      <td>2</td>\n",
              "      <td>10</td>\n",
              "      <td>1.0</td>\n",
              "      <td>50128</td>\n",
              "      <td>87991</td>\n",
              "      <td>2211</td>\n",
              "      <td>790</td>\n",
              "      <td>1119</td>\n",
              "      <td>61027</td>\n",
              "      <td>32048</td>\n",
              "      <td>1386</td>\n",
              "      <td>58</td>\n",
              "      <td>1572.0</td>\n",
              "      <td>147.0</td>\n",
              "      <td>1777</td>\n",
              "    </tr>\n",
              "    <tr>\n",
              "      <th>4</th>\n",
              "      <td>139441</td>\n",
              "      <td>Photo</td>\n",
              "      <td>2</td>\n",
              "      <td>12</td>\n",
              "      <td>2</td>\n",
              "      <td>3</td>\n",
              "      <td>0.0</td>\n",
              "      <td>7244</td>\n",
              "      <td>13594</td>\n",
              "      <td>671</td>\n",
              "      <td>410</td>\n",
              "      <td>580</td>\n",
              "      <td>6228</td>\n",
              "      <td>3200</td>\n",
              "      <td>396</td>\n",
              "      <td>19</td>\n",
              "      <td>325.0</td>\n",
              "      <td>49.0</td>\n",
              "      <td>393</td>\n",
              "    </tr>\n",
              "  </tbody>\n",
              "</table>\n",
              "</div>\n",
              "      <button class=\"colab-df-convert\" onclick=\"convertToInteractive('df-c80c7711-7c5c-4cd6-a2f3-687c6a207d37')\"\n",
              "              title=\"Convert this dataframe to an interactive table.\"\n",
              "              style=\"display:none;\">\n",
              "        \n",
              "  <svg xmlns=\"http://www.w3.org/2000/svg\" height=\"24px\"viewBox=\"0 0 24 24\"\n",
              "       width=\"24px\">\n",
              "    <path d=\"M0 0h24v24H0V0z\" fill=\"none\"/>\n",
              "    <path d=\"M18.56 5.44l.94 2.06.94-2.06 2.06-.94-2.06-.94-.94-2.06-.94 2.06-2.06.94zm-11 1L8.5 8.5l.94-2.06 2.06-.94-2.06-.94L8.5 2.5l-.94 2.06-2.06.94zm10 10l.94 2.06.94-2.06 2.06-.94-2.06-.94-.94-2.06-.94 2.06-2.06.94z\"/><path d=\"M17.41 7.96l-1.37-1.37c-.4-.4-.92-.59-1.43-.59-.52 0-1.04.2-1.43.59L10.3 9.45l-7.72 7.72c-.78.78-.78 2.05 0 2.83L4 21.41c.39.39.9.59 1.41.59.51 0 1.02-.2 1.41-.59l7.78-7.78 2.81-2.81c.8-.78.8-2.07 0-2.86zM5.41 20L4 18.59l7.72-7.72 1.47 1.35L5.41 20z\"/>\n",
              "  </svg>\n",
              "      </button>\n",
              "      \n",
              "  <style>\n",
              "    .colab-df-container {\n",
              "      display:flex;\n",
              "      flex-wrap:wrap;\n",
              "      gap: 12px;\n",
              "    }\n",
              "\n",
              "    .colab-df-convert {\n",
              "      background-color: #E8F0FE;\n",
              "      border: none;\n",
              "      border-radius: 50%;\n",
              "      cursor: pointer;\n",
              "      display: none;\n",
              "      fill: #1967D2;\n",
              "      height: 32px;\n",
              "      padding: 0 0 0 0;\n",
              "      width: 32px;\n",
              "    }\n",
              "\n",
              "    .colab-df-convert:hover {\n",
              "      background-color: #E2EBFA;\n",
              "      box-shadow: 0px 1px 2px rgba(60, 64, 67, 0.3), 0px 1px 3px 1px rgba(60, 64, 67, 0.15);\n",
              "      fill: #174EA6;\n",
              "    }\n",
              "\n",
              "    [theme=dark] .colab-df-convert {\n",
              "      background-color: #3B4455;\n",
              "      fill: #D2E3FC;\n",
              "    }\n",
              "\n",
              "    [theme=dark] .colab-df-convert:hover {\n",
              "      background-color: #434B5C;\n",
              "      box-shadow: 0px 1px 3px 1px rgba(0, 0, 0, 0.15);\n",
              "      filter: drop-shadow(0px 1px 2px rgba(0, 0, 0, 0.3));\n",
              "      fill: #FFFFFF;\n",
              "    }\n",
              "  </style>\n",
              "\n",
              "      <script>\n",
              "        const buttonEl =\n",
              "          document.querySelector('#df-c80c7711-7c5c-4cd6-a2f3-687c6a207d37 button.colab-df-convert');\n",
              "        buttonEl.style.display =\n",
              "          google.colab.kernel.accessAllowed ? 'block' : 'none';\n",
              "\n",
              "        async function convertToInteractive(key) {\n",
              "          const element = document.querySelector('#df-c80c7711-7c5c-4cd6-a2f3-687c6a207d37');\n",
              "          const dataTable =\n",
              "            await google.colab.kernel.invokeFunction('convertToInteractive',\n",
              "                                                     [key], {});\n",
              "          if (!dataTable) return;\n",
              "\n",
              "          const docLinkHtml = 'Like what you see? Visit the ' +\n",
              "            '<a target=\"_blank\" href=https://colab.research.google.com/notebooks/data_table.ipynb>data table notebook</a>'\n",
              "            + ' to learn more about interactive tables.';\n",
              "          element.innerHTML = '';\n",
              "          dataTable['output_type'] = 'display_data';\n",
              "          await google.colab.output.renderOutput(dataTable, element);\n",
              "          const docLink = document.createElement('div');\n",
              "          docLink.innerHTML = docLinkHtml;\n",
              "          element.appendChild(docLink);\n",
              "        }\n",
              "      </script>\n",
              "    </div>\n",
              "  </div>\n",
              "  "
            ]
          },
          "metadata": {},
          "execution_count": 3
        }
      ]
    },
    {
      "cell_type": "code",
      "source": [
        "X=df.iloc[:,0:7]\n",
        "X"
      ],
      "metadata": {
        "colab": {
          "base_uri": "https://localhost:8080/",
          "height": 419
        },
        "id": "GpFf9Bh6v8Jp",
        "outputId": "c61fd4a8-032b-4cb3-c8c4-49daaef7be30"
      },
      "execution_count": 4,
      "outputs": [
        {
          "output_type": "execute_result",
          "data": {
            "text/plain": [
              "     Page total likes    Type  Category  Post Month  Post Weekday  Post Hour  \\\n",
              "0              139441   Photo         2          12             4          3   \n",
              "1              139441  Status         2          12             3         10   \n",
              "2              139441   Photo         3          12             3          3   \n",
              "3              139441   Photo         2          12             2         10   \n",
              "4              139441   Photo         2          12             2          3   \n",
              "..                ...     ...       ...         ...           ...        ...   \n",
              "495             85093   Photo         3           1             7          2   \n",
              "496             81370   Photo         2           1             5          8   \n",
              "497             81370   Photo         1           1             5          2   \n",
              "498             81370   Photo         3           1             4         11   \n",
              "499             81370   Photo         2           1             4          4   \n",
              "\n",
              "     Paid  \n",
              "0     0.0  \n",
              "1     0.0  \n",
              "2     0.0  \n",
              "3     1.0  \n",
              "4     0.0  \n",
              "..    ...  \n",
              "495   0.0  \n",
              "496   0.0  \n",
              "497   0.0  \n",
              "498   0.0  \n",
              "499   NaN  \n",
              "\n",
              "[500 rows x 7 columns]"
            ],
            "text/html": [
              "\n",
              "  <div id=\"df-6f953fb5-9fea-43c7-a548-beabdb1e75e4\">\n",
              "    <div class=\"colab-df-container\">\n",
              "      <div>\n",
              "<style scoped>\n",
              "    .dataframe tbody tr th:only-of-type {\n",
              "        vertical-align: middle;\n",
              "    }\n",
              "\n",
              "    .dataframe tbody tr th {\n",
              "        vertical-align: top;\n",
              "    }\n",
              "\n",
              "    .dataframe thead th {\n",
              "        text-align: right;\n",
              "    }\n",
              "</style>\n",
              "<table border=\"1\" class=\"dataframe\">\n",
              "  <thead>\n",
              "    <tr style=\"text-align: right;\">\n",
              "      <th></th>\n",
              "      <th>Page total likes</th>\n",
              "      <th>Type</th>\n",
              "      <th>Category</th>\n",
              "      <th>Post Month</th>\n",
              "      <th>Post Weekday</th>\n",
              "      <th>Post Hour</th>\n",
              "      <th>Paid</th>\n",
              "    </tr>\n",
              "  </thead>\n",
              "  <tbody>\n",
              "    <tr>\n",
              "      <th>0</th>\n",
              "      <td>139441</td>\n",
              "      <td>Photo</td>\n",
              "      <td>2</td>\n",
              "      <td>12</td>\n",
              "      <td>4</td>\n",
              "      <td>3</td>\n",
              "      <td>0.0</td>\n",
              "    </tr>\n",
              "    <tr>\n",
              "      <th>1</th>\n",
              "      <td>139441</td>\n",
              "      <td>Status</td>\n",
              "      <td>2</td>\n",
              "      <td>12</td>\n",
              "      <td>3</td>\n",
              "      <td>10</td>\n",
              "      <td>0.0</td>\n",
              "    </tr>\n",
              "    <tr>\n",
              "      <th>2</th>\n",
              "      <td>139441</td>\n",
              "      <td>Photo</td>\n",
              "      <td>3</td>\n",
              "      <td>12</td>\n",
              "      <td>3</td>\n",
              "      <td>3</td>\n",
              "      <td>0.0</td>\n",
              "    </tr>\n",
              "    <tr>\n",
              "      <th>3</th>\n",
              "      <td>139441</td>\n",
              "      <td>Photo</td>\n",
              "      <td>2</td>\n",
              "      <td>12</td>\n",
              "      <td>2</td>\n",
              "      <td>10</td>\n",
              "      <td>1.0</td>\n",
              "    </tr>\n",
              "    <tr>\n",
              "      <th>4</th>\n",
              "      <td>139441</td>\n",
              "      <td>Photo</td>\n",
              "      <td>2</td>\n",
              "      <td>12</td>\n",
              "      <td>2</td>\n",
              "      <td>3</td>\n",
              "      <td>0.0</td>\n",
              "    </tr>\n",
              "    <tr>\n",
              "      <th>...</th>\n",
              "      <td>...</td>\n",
              "      <td>...</td>\n",
              "      <td>...</td>\n",
              "      <td>...</td>\n",
              "      <td>...</td>\n",
              "      <td>...</td>\n",
              "      <td>...</td>\n",
              "    </tr>\n",
              "    <tr>\n",
              "      <th>495</th>\n",
              "      <td>85093</td>\n",
              "      <td>Photo</td>\n",
              "      <td>3</td>\n",
              "      <td>1</td>\n",
              "      <td>7</td>\n",
              "      <td>2</td>\n",
              "      <td>0.0</td>\n",
              "    </tr>\n",
              "    <tr>\n",
              "      <th>496</th>\n",
              "      <td>81370</td>\n",
              "      <td>Photo</td>\n",
              "      <td>2</td>\n",
              "      <td>1</td>\n",
              "      <td>5</td>\n",
              "      <td>8</td>\n",
              "      <td>0.0</td>\n",
              "    </tr>\n",
              "    <tr>\n",
              "      <th>497</th>\n",
              "      <td>81370</td>\n",
              "      <td>Photo</td>\n",
              "      <td>1</td>\n",
              "      <td>1</td>\n",
              "      <td>5</td>\n",
              "      <td>2</td>\n",
              "      <td>0.0</td>\n",
              "    </tr>\n",
              "    <tr>\n",
              "      <th>498</th>\n",
              "      <td>81370</td>\n",
              "      <td>Photo</td>\n",
              "      <td>3</td>\n",
              "      <td>1</td>\n",
              "      <td>4</td>\n",
              "      <td>11</td>\n",
              "      <td>0.0</td>\n",
              "    </tr>\n",
              "    <tr>\n",
              "      <th>499</th>\n",
              "      <td>81370</td>\n",
              "      <td>Photo</td>\n",
              "      <td>2</td>\n",
              "      <td>1</td>\n",
              "      <td>4</td>\n",
              "      <td>4</td>\n",
              "      <td>NaN</td>\n",
              "    </tr>\n",
              "  </tbody>\n",
              "</table>\n",
              "<p>500 rows × 7 columns</p>\n",
              "</div>\n",
              "      <button class=\"colab-df-convert\" onclick=\"convertToInteractive('df-6f953fb5-9fea-43c7-a548-beabdb1e75e4')\"\n",
              "              title=\"Convert this dataframe to an interactive table.\"\n",
              "              style=\"display:none;\">\n",
              "        \n",
              "  <svg xmlns=\"http://www.w3.org/2000/svg\" height=\"24px\"viewBox=\"0 0 24 24\"\n",
              "       width=\"24px\">\n",
              "    <path d=\"M0 0h24v24H0V0z\" fill=\"none\"/>\n",
              "    <path d=\"M18.56 5.44l.94 2.06.94-2.06 2.06-.94-2.06-.94-.94-2.06-.94 2.06-2.06.94zm-11 1L8.5 8.5l.94-2.06 2.06-.94-2.06-.94L8.5 2.5l-.94 2.06-2.06.94zm10 10l.94 2.06.94-2.06 2.06-.94-2.06-.94-.94-2.06-.94 2.06-2.06.94z\"/><path d=\"M17.41 7.96l-1.37-1.37c-.4-.4-.92-.59-1.43-.59-.52 0-1.04.2-1.43.59L10.3 9.45l-7.72 7.72c-.78.78-.78 2.05 0 2.83L4 21.41c.39.39.9.59 1.41.59.51 0 1.02-.2 1.41-.59l7.78-7.78 2.81-2.81c.8-.78.8-2.07 0-2.86zM5.41 20L4 18.59l7.72-7.72 1.47 1.35L5.41 20z\"/>\n",
              "  </svg>\n",
              "      </button>\n",
              "      \n",
              "  <style>\n",
              "    .colab-df-container {\n",
              "      display:flex;\n",
              "      flex-wrap:wrap;\n",
              "      gap: 12px;\n",
              "    }\n",
              "\n",
              "    .colab-df-convert {\n",
              "      background-color: #E8F0FE;\n",
              "      border: none;\n",
              "      border-radius: 50%;\n",
              "      cursor: pointer;\n",
              "      display: none;\n",
              "      fill: #1967D2;\n",
              "      height: 32px;\n",
              "      padding: 0 0 0 0;\n",
              "      width: 32px;\n",
              "    }\n",
              "\n",
              "    .colab-df-convert:hover {\n",
              "      background-color: #E2EBFA;\n",
              "      box-shadow: 0px 1px 2px rgba(60, 64, 67, 0.3), 0px 1px 3px 1px rgba(60, 64, 67, 0.15);\n",
              "      fill: #174EA6;\n",
              "    }\n",
              "\n",
              "    [theme=dark] .colab-df-convert {\n",
              "      background-color: #3B4455;\n",
              "      fill: #D2E3FC;\n",
              "    }\n",
              "\n",
              "    [theme=dark] .colab-df-convert:hover {\n",
              "      background-color: #434B5C;\n",
              "      box-shadow: 0px 1px 3px 1px rgba(0, 0, 0, 0.15);\n",
              "      filter: drop-shadow(0px 1px 2px rgba(0, 0, 0, 0.3));\n",
              "      fill: #FFFFFF;\n",
              "    }\n",
              "  </style>\n",
              "\n",
              "      <script>\n",
              "        const buttonEl =\n",
              "          document.querySelector('#df-6f953fb5-9fea-43c7-a548-beabdb1e75e4 button.colab-df-convert');\n",
              "        buttonEl.style.display =\n",
              "          google.colab.kernel.accessAllowed ? 'block' : 'none';\n",
              "\n",
              "        async function convertToInteractive(key) {\n",
              "          const element = document.querySelector('#df-6f953fb5-9fea-43c7-a548-beabdb1e75e4');\n",
              "          const dataTable =\n",
              "            await google.colab.kernel.invokeFunction('convertToInteractive',\n",
              "                                                     [key], {});\n",
              "          if (!dataTable) return;\n",
              "\n",
              "          const docLinkHtml = 'Like what you see? Visit the ' +\n",
              "            '<a target=\"_blank\" href=https://colab.research.google.com/notebooks/data_table.ipynb>data table notebook</a>'\n",
              "            + ' to learn more about interactive tables.';\n",
              "          element.innerHTML = '';\n",
              "          dataTable['output_type'] = 'display_data';\n",
              "          await google.colab.output.renderOutput(dataTable, element);\n",
              "          const docLink = document.createElement('div');\n",
              "          docLink.innerHTML = docLinkHtml;\n",
              "          element.appendChild(docLink);\n",
              "        }\n",
              "      </script>\n",
              "    </div>\n",
              "  </div>\n",
              "  "
            ]
          },
          "metadata": {},
          "execution_count": 4
        }
      ]
    },
    {
      "cell_type": "code",
      "source": [
        "y=df[\"Lifetime People who have liked your Page and engaged with your post\"]\n",
        "y"
      ],
      "metadata": {
        "colab": {
          "base_uri": "https://localhost:8080/"
        },
        "id": "vIj_dI9ATIiY",
        "outputId": "33ee3d5c-2aff-4c0a-bb34-7f1c1ec7d38f"
      },
      "execution_count": 5,
      "outputs": [
        {
          "output_type": "execute_result",
          "data": {
            "text/plain": [
              "0       119\n",
              "1      1108\n",
              "2       132\n",
              "3      1386\n",
              "4       396\n",
              "       ... \n",
              "495     392\n",
              "496     301\n",
              "497     363\n",
              "498     370\n",
              "499     316\n",
              "Name: Lifetime People who have liked your Page and engaged with your post, Length: 500, dtype: int64"
            ]
          },
          "metadata": {},
          "execution_count": 5
        }
      ]
    },
    {
      "cell_type": "code",
      "source": [
        "X=df.iloc[:,0:7] #Para la entrada \n",
        "y=df[\"Lifetime People who have liked your Page and engaged with your post\"] \n",
        "#Para la de salida: Lifetime people who have liked a page and engaged with a post\n",
        "#The number of people who have liked a Page and clicked anywhere in a post (Unique users)."
      ],
      "metadata": {
        "id": "0ulkqXVGCy97"
      },
      "execution_count": 6,
      "outputs": []
    },
    {
      "cell_type": "markdown",
      "source": [
        "#**Ejercicio-2.**"
      ],
      "metadata": {
        "id": "xZhr2hkECzVv"
      }
    },
    {
      "cell_type": "code",
      "source": [
        "X_train, X_test, y_train, y_test= train_test_split(X, y, test_size=0.20, random_state=11)"
      ],
      "metadata": {
        "id": "kGfAoOPkC1PP"
      },
      "execution_count": 7,
      "outputs": []
    },
    {
      "cell_type": "markdown",
      "source": [
        "#**Ejercicio-3.**"
      ],
      "metadata": {
        "id": "NCunuooTC2W3"
      }
    },
    {
      "cell_type": "code",
      "source": [
        "def mi_rmse(ytest, ypred):\n",
        "    rmse=np.mean(np.square(ytest-ypred))**(1/2)\n",
        "    return rmse\n",
        "def mi_mse(ytest, ypred):\n",
        "    mse=np.mean(np.square(ytest-ypred))\n",
        "    return mse\n",
        "\n",
        "def mi_mae(ytest, ypred):\n",
        "    mae=np.mean(np.abs(ytest-ypred))\n",
        "    return mae\n",
        "\n",
        "def mi_mape(ytest, ypred):\n",
        "    mape=np.mean(np.abs((ytest-ypred)/ytest))\n",
        "    return mape\n",
        "\n",
        "def get_models():\n",
        "  modelos = list()\n",
        "  nombres = list()\n",
        "\n",
        "  # LR - Regresión Lineal:\n",
        "  modelos.append(LinearRegression())\n",
        "  nombres.append('LR')\n",
        "\n",
        "  # RF - RANDOM FOREST:\n",
        "  modelos.append(RandomForestRegressor())\n",
        "  nombres.append('RF')\n",
        "\n",
        "  # MLP - PERCEPTRON MULTICAPA:\n",
        "  modelos.append(MLPRegressor(max_iter=100000))\n",
        "  nombres.append('MLP')\n",
        "\n",
        "  return modelos, nombres"
      ],
      "metadata": {
        "id": "YXlcSWA-C4Dj"
      },
      "execution_count": 23,
      "outputs": []
    },
    {
      "cell_type": "markdown",
      "source": [
        "#**Ejercicio-4.**"
      ],
      "metadata": {
        "id": "chqk9jIDC5Pq"
      }
    },
    {
      "cell_type": "code",
      "source": [
        "categorical= ['Type','Category','Paid']\n",
        "numerical=['Page total likes']\n",
        "temporales=['Post Month','Post Weekday','Post Hour']"
      ],
      "metadata": {
        "id": "RBVSFwK4C6g9"
      },
      "execution_count": 9,
      "outputs": []
    },
    {
      "cell_type": "code",
      "source": [
        "#Transformaciones a factores numéricos de entrada:\n",
        "numerical_pipeline = Pipeline(steps = [('impMean', SimpleImputer(strategy='median')),\n",
        "                                 ('escalaNum', MinMaxScaler(feature_range=(1,2))),\n",
        "                                 ('log',FunctionTransformer(np.log))\n",
        "                                 ])   \n",
        "numerical_pipeline_nombres = numerical\n",
        "\n",
        "# Transformaciones a factores categóricos de entrada:\n",
        "categorical_pipeline = Pipeline(steps = [('impModa', SimpleImputer(strategy='most_frequent')),\n",
        "                                ('OneHotE', OneHotEncoder(handle_unknown=\"ignore\",drop=\"first\"))])  \n",
        "categorical_pipeline_nombres = categorical\n",
        "\n",
        "temporales_pipeline = Pipeline(steps = [('impModa', SimpleImputer(strategy='most_frequent'))\n",
        "                                ])  \n",
        "temporales_pipeline_nombres = temporales\n",
        "\n",
        "\n",
        "# Conjuntamos las transformaciones numéricas y categóricas que se estarán aplicando a los datos de entrada:\n",
        "columnasTransformer = ColumnTransformer(transformers = [('numpipe', numerical_pipeline, numerical_pipeline_nombres),\n",
        "                                                        ('catimp', categorical_pipeline, categorical_pipeline_nombres),\n",
        "                                                        ('cattemp', temporales_pipeline, temporales_pipeline_nombres)\n",
        "                                                        ],\n",
        "                                        remainder='passthrough')"
      ],
      "metadata": {
        "id": "7KXnlNzAC69Y"
      },
      "execution_count": 30,
      "outputs": []
    },
    {
      "cell_type": "markdown",
      "source": [
        "#**Ejercicio-5.**"
      ],
      "metadata": {
        "id": "Rv7KFq-mC7PS"
      }
    },
    {
      "cell_type": "code",
      "source": [
        "DX_train, DX_val, Dy_train, Dy_val=train_test_split(X, y, test_size=0.25, random_state=11)\n",
        "modeloDummy = DummyRegressor()  \n",
        "pipeline = Pipeline(steps=[('ct',columnasTransformer),('m',modeloDummy)])\n",
        "pipeline= TransformedTargetRegressor(regressor=pipeline, \n",
        "                                    func= np.log,     # transformación para ajuste del sesgo.\n",
        "                                    inverse_func=np.exp  # Para regresar los valores \"y\" en la escala original.\n",
        "                                    )\n",
        "pipeline.fit(DX_train, Dy_train)  \n",
        "Dy_pred_val = pipeline.predict(DX_val)\n",
        "Dy_pred= pipeline.predict(DX_train)"
      ],
      "metadata": {
        "id": "jaDj3kawC9B6"
      },
      "execution_count": 31,
      "outputs": []
    },
    {
      "cell_type": "code",
      "source": [
        "print(\"RSME train: {}\".format(mi_rmse(Dy_train, Dy_pred)))\n",
        "print(\"MAE train: {}\".format(mi_mae(Dy_train, Dy_pred)))\n",
        "print(\"MAPE: {}\".format(mi_mape(Dy_train, Dy_pred)))"
      ],
      "metadata": {
        "colab": {
          "base_uri": "https://localhost:8080/"
        },
        "id": "9PjI3ZS7IZSn",
        "outputId": "951fbebe-5a51-4936-9208-363658dae5bf"
      },
      "execution_count": 32,
      "outputs": [
        {
          "output_type": "stream",
          "name": "stdout",
          "text": [
            "RSME train: 695.9671724874808\n",
            "MAE train: 375.32383843441494\n",
            "MAPE: 1.0504240572310597\n"
          ]
        }
      ]
    },
    {
      "cell_type": "code",
      "source": [
        "print(\"RSME validation: {}\".format(mi_rmse(Dy_val, Dy_pred_val)))\n",
        "print(\"MAE validation: {}\".format(mi_mae(Dy_val, Dy_pred_val)))\n",
        "print(\"MAPE validation: {}\".format(mi_mape(Dy_val, Dy_pred_val)))"
      ],
      "metadata": {
        "id": "4tQxQROVC9Us",
        "colab": {
          "base_uri": "https://localhost:8080/"
        },
        "outputId": "cf8d3064-4950-4998-df9a-efc5217c3170"
      },
      "execution_count": 33,
      "outputs": [
        {
          "output_type": "stream",
          "name": "stdout",
          "text": [
            "RSME validation: 397.3305980559189\n",
            "MAE validation: 226.91610045474513\n",
            "MAPE validation: 0.6980696778376173\n"
          ]
        }
      ]
    },
    {
      "cell_type": "markdown",
      "source": [
        "#**Ejercicio-6.**"
      ],
      "metadata": {
        "id": "W2S7LI0NC9wE"
      }
    },
    {
      "cell_type": "code",
      "source": [
        "modelos, nombres = get_models()\n",
        "resultados = list()\n",
        "\n",
        "for i in range(len(modelos)):\n",
        "    kfold = RepeatedKFold(n_splits=5, n_repeats=5, random_state=11)\n",
        "    #for train_index, val_index in kfold.split(X_train):\n",
        "    #    CVX_train, CVX_val = X_train.iloc[train_index], X_train.iloc[val_index]\n",
        "    #    CVy_train, CVy_val = y_train.iloc[train_index], y_train.iloc[val_index]\n",
        "       \n",
        "    pipeline = Pipeline(steps=[('ct',columnasTransformer),('m',modelos[i])])\n",
        "\n",
        "    pipeline= TransformedTargetRegressor(regressor=pipeline, \n",
        "                                    func= np.log,     # transformación para ajuste del sesgo.\n",
        "                                    inverse_func=np.exp  # Para regresar los valores \"y\" en la escala original.\n",
        "                                    )\n",
        "    \n",
        "    mismetricas =  {\"RMSE\": make_scorer(mi_rmse),\n",
        "                    \"MAE\": make_scorer(mi_mae),\n",
        "                    'MAPE':make_scorer(mi_mape), \n",
        "                    }\n",
        "\n",
        "    scores = cross_validate(pipeline, X_train, y_train, scoring=mismetricas, cv=kfold,return_train_score=True)\n",
        "\n",
        "    resultados.append(scores)\n",
        "    print('%s:\\nRMSE: %.3f (%.4f)\\nMAE: %.3f (%.4f)\\nMAPE: %.3f (%.4f)\\n' % (nombres[i],\n",
        "                                                                        np.mean(scores['test_RMSE']),\n",
        "                                                                        np.std(scores['test_RMSE']), \n",
        "                                                                        np.mean(scores['test_MAE']),\n",
        "                                                                        np.std(scores['test_MAE']), \n",
        "                                                                        np.mean(scores['test_MAPE']),\n",
        "                                                                        np.std(scores['test_MAPE']),\n",
        "                                                                        ))\n"
      ],
      "metadata": {
        "id": "x6uBleJUC_AU",
        "colab": {
          "base_uri": "https://localhost:8080/"
        },
        "outputId": "06837718-001c-455a-c583-ceded38faa82"
      },
      "execution_count": 34,
      "outputs": [
        {
          "output_type": "stream",
          "name": "stdout",
          "text": [
            "LR:\n",
            "RMSE: 557.113 (131.9634)\n",
            "MAE: 300.460 (59.4076)\n",
            "MAPE: 0.891 (0.3806)\n",
            "\n",
            "RF:\n",
            "RMSE: 574.703 (130.3159)\n",
            "MAE: 325.487 (55.5595)\n",
            "MAPE: 0.946 (0.3845)\n",
            "\n",
            "MLP:\n",
            "RMSE: 579.957 (145.4215)\n",
            "MAE: 321.403 (62.7780)\n",
            "MAPE: 0.974 (0.3941)\n",
            "\n"
          ]
        }
      ]
    },
    {
      "cell_type": "markdown",
      "source": [
        "#**Ejercicio-7.**"
      ],
      "metadata": {
        "id": "iCNGx4TQ8CFI"
      }
    },
    {
      "cell_type": "code",
      "source": [
        "#Diagrama de caja\n",
        "sns.set(rc={'figure.figsize':(8,4)})\n",
        "\n",
        "bpMAPE = list()\n",
        "for i in range(len(resultados)):\n",
        "  rr = resultados[i]['test_MAPE']\n",
        "  bpMAPE.append(rr)\n",
        "\n",
        "plt.boxplot(bpMAPE, labels=nombres, showmeans=True)\n",
        "\n",
        "plt.show()"
      ],
      "metadata": {
        "id": "ewvwUcJX78y1",
        "colab": {
          "base_uri": "https://localhost:8080/",
          "height": 269
        },
        "outputId": "ce90f62a-37b4-49d6-ee8d-0a01161c6493"
      },
      "execution_count": 35,
      "outputs": [
        {
          "output_type": "display_data",
          "data": {
            "text/plain": [
              "<Figure size 576x288 with 1 Axes>"
            ],
            "image/png": "[encoded data removed]"
          },
          "metadata": {}
        }
      ]
    },
    {
      "cell_type": "markdown",
      "source": [
        "#**Ejercicio-8.**"
      ],
      "metadata": {
        "id": "tzQn5NR78GFg"
      }
    },
    {
      "cell_type": "code",
      "source": [
        "kfold = RepeatedKFold(n_splits=5, n_repeats=3, random_state=11)\n",
        "\n",
        "\n",
        "pipeline = Pipeline(steps=[('ct',columnasTransformer),('m',TransformedTargetRegressor(regressor=modelos[2], func= np.log,inverse_func=np.exp))])\n",
        "\n",
        "#“hidden_layer_sizes”, “alpha” y “learning_rate_init”\n",
        "param_grid = {\n",
        "    'm__regressor__hidden_layer_sizes':[(1,1),(2,2),(5,5),(10,10)],\n",
        "    'm__regressor__alpha': [0.0001,0.01,0.1],\n",
        "    'm__regressor__learning_rate_init': [0.0001,0.01,0.1]\n",
        "    #'m__regressor__solver':['lbfgs', 'sgd'] #Adam no converge rapido se descarta\n",
        "}\n",
        "\n",
        "grid = GridSearchCV(estimator=pipeline,\n",
        "                    param_grid=param_grid,\n",
        "                    cv=kfold,\n",
        "                    scoring=make_scorer(mi_mape),\n",
        "                    n_jobs=-1)\n",
        "\n",
        "grid.fit(X_train, y_train)\n",
        "print(\"Best parameter (CV score=%0.3f):\" % grid.best_score_)\n",
        "print(grid.best_params_)"
      ],
      "metadata": {
        "id": "EBKcp0278IQV",
        "colab": {
          "base_uri": "https://localhost:8080/"
        },
        "outputId": "2d1f81f0-b2fe-4ab0-9352-976a647e4a99"
      },
      "execution_count": 36,
      "outputs": [
        {
          "output_type": "stream",
          "name": "stdout",
          "text": [
            "Best parameter (CV score=1.068):\n",
            "{'m__regressor__alpha': 0.1, 'm__regressor__hidden_layer_sizes': (2, 2), 'm__regressor__learning_rate_init': 0.0001}\n"
          ]
        }
      ]
    },
    {
      "cell_type": "markdown",
      "source": [
        "#**Ejercicio-9.**"
      ],
      "metadata": {
        "id": "mASNrZWs8JTh"
      }
    },
    {
      "cell_type": "code",
      "source": [
        "modelo_MLP = MLPRegressor(hidden_layer_sizes=(2,2), \n",
        "                            max_iter=20000, \n",
        "                            alpha=0.1,\n",
        "                            learning_rate_init=0.0001,\n",
        "                            )  \n",
        "\n",
        "pipeline = Pipeline(steps=[('ct',columnasTransformer),('m',TransformedTargetRegressor(regressor=modelo_MLP, func= np.log,inverse_func=np.exp))])\n",
        "pipeline.fit(X_train, y_train)\n",
        "importance = permutation_importance(pipeline, X_train, y_train, n_repeats=11,scoring=make_scorer(mi_mape,greater_is_better=False))\n",
        "\n",
        "# visualicemos la importancia de cada métrica, de las cuales sabemos\n",
        "# cuáles son las más importantes, de acuerdo a como se definieron al inicio:\n",
        "\n",
        "for i,v in enumerate(importance['importances_mean']):\n",
        "\tprint('Feature: %0d, Score: %.5f' % (i,v))\n",
        " \n",
        "plt.bar([x for x in range(len(importance['importances_mean']))], importance['importances_mean'])\n",
        "plt.show()"
      ],
      "metadata": {
        "id": "X6HJP9hb8LCp",
        "colab": {
          "base_uri": "https://localhost:8080/",
          "height": 387
        },
        "outputId": "a56ae7fd-03d7-47e8-c75a-d2b86300bc7e"
      },
      "execution_count": 45,
      "outputs": [
        {
          "output_type": "stream",
          "name": "stdout",
          "text": [
            "Feature: 0, Score: 0.05332\n",
            "Feature: 1, Score: 0.19727\n",
            "Feature: 2, Score: 0.12668\n",
            "Feature: 3, Score: 0.05077\n",
            "Feature: 4, Score: 0.00444\n",
            "Feature: 5, Score: -0.00615\n",
            "Feature: 6, Score: 0.01132\n"
          ]
        },
        {
          "output_type": "display_data",
          "data": {
            "text/plain": [
              "<Figure size 576x288 with 1 Axes>"
            ],
            "image/png": "[encoded data removed]"
          },
          "metadata": {}
        }
      ]
    },
    {
      "cell_type": "markdown",
      "source": [
        "#**Ejercicio-10.**"
      ],
      "metadata": {
        "id": "VUIcDshs8MzG"
      }
    },
    {
      "cell_type": "code",
      "source": [
        "kfold = RepeatedKFold(n_splits=5, n_repeats=3, random_state=11)\n",
        "pipeline = Pipeline(steps=[('ct',columnasTransformer),('m',TransformedTargetRegressor(regressor=modelos[1], func= np.log,inverse_func=np.exp))])\n",
        "max_depth = np.linspace(1,20,20, dtype=\"int\")\n",
        "param_grid = {\n",
        "    'm__regressor__ccp_alpha':[0.0001,0.01,0.1],\n",
        "    'm__regressor__criterion':['squared_error', 'absolute_error', 'poisson'],\n",
        "    'm__regressor__max_depth': max_depth,\n",
        "    'm__regressor__min_samples_split': [0.0001,0.01,0.1],\n",
        "}\n",
        "\n",
        "grid = GridSearchCV(estimator=pipeline,\n",
        "                    param_grid=param_grid,\n",
        "                    cv=kfold,\n",
        "                    scoring=make_scorer(mi_mape),\n",
        "                    n_jobs=-1)\n",
        "                    \n",
        "\n",
        "grid.fit(X_train, y_train)\n",
        "\n",
        "print(\"Best parameter (CV score=%0.3f):\" % grid.best_score_)\n",
        "print(grid.best_params_)"
      ],
      "metadata": {
        "id": "0lKNJNIt8N88",
        "colab": {
          "base_uri": "https://localhost:8080/"
        },
        "outputId": "6577387a-6210-484e-95b0-a7b73ae82fa6"
      },
      "execution_count": 40,
      "outputs": [
        {
          "output_type": "stream",
          "name": "stdout",
          "text": [
            "Best parameter (CV score=1.084):\n",
            "{'m__regressor__ccp_alpha': 0.0001, 'm__regressor__criterion': 'poisson', 'm__regressor__max_depth': 19, 'm__regressor__min_samples_split': 0.0001}\n"
          ]
        }
      ]
    },
    {
      "cell_type": "code",
      "source": [
        "modelo_RF =RandomForestRegressor(ccp_alpha=0.0001,\n",
        "                                 criterion='poisson',\n",
        "\t\t\t\t\t\t\t\tmax_depth=19,\n",
        "\t\t\t\t\t\t\t\tmin_samples_split=0.0001)\n",
        "\t\n",
        "pipeline = Pipeline(steps=[('ct',columnasTransformer),('m',TransformedTargetRegressor(regressor=modelo_RF, func= np.log,inverse_func=np.exp))])\n",
        "\n",
        "pipeline.fit(X_train, y_train)\n",
        "importance = permutation_importance(pipeline, X_train, y_train, n_repeats=11)\n",
        "\n",
        "# visualicemos la importancia de cada métrica, de las cuales sabemos\n",
        "# cuáles son las más importantes, de acuerdo a como se definieron al inicio:\n",
        "\n",
        "for i,v in enumerate(importance['importances_mean']):\n",
        "\tprint('Feature: %0d, Score: %.5f' % (i,v))\n",
        " \n",
        "plt.bar([x for x in range(len(importance['importances_mean']))], importance['importances_mean'])\n",
        "plt.show()"
      ],
      "metadata": {
        "id": "Inkq5YQe8PED",
        "colab": {
          "base_uri": "https://localhost:8080/",
          "height": 387
        },
        "outputId": "301b6d8b-0906-4484-c15a-aad203915b13"
      },
      "execution_count": 43,
      "outputs": [
        {
          "output_type": "stream",
          "name": "stdout",
          "text": [
            "Feature: 0, Score: 0.27317\n",
            "Feature: 1, Score: 0.94647\n",
            "Feature: 2, Score: 0.08493\n",
            "Feature: 3, Score: 0.07437\n",
            "Feature: 4, Score: 0.21553\n",
            "Feature: 5, Score: 0.28389\n",
            "Feature: 6, Score: 0.09863\n"
          ]
        },
        {
          "output_type": "display_data",
          "data": {
            "text/plain": [
              "<Figure size 576x288 with 1 Axes>"
            ],
            "image/png": "[encoded data removed]"
          },
          "metadata": {}
        }
      ]
    },
    {
      "cell_type": "markdown",
      "source": [
        "#**Ejercicio-11.**"
      ],
      "metadata": {
        "id": "5LJl6oql8Pc8"
      }
    },
    {
      "cell_type": "code",
      "source": [
        "kfold = RepeatedKFold(n_splits=5, n_repeats=3, random_state=11)\n",
        "pipeline = Pipeline(steps=[('ct',columnasTransformer),('m',TransformedTargetRegressor(regressor=modelos[0], func= np.log,inverse_func=np.exp))])\n",
        "#“hidden_layer_sizes”, “alpha” y “learning_rate_init”\n",
        "param_grid = {\n",
        "    'm__regressor__fit_intercept':['True','False']\n",
        "\n",
        "}\n",
        "\n",
        "grid = GridSearchCV(estimator=pipeline,\n",
        "                    param_grid=param_grid,\n",
        "                    cv=kfold,\n",
        "                    scoring=make_scorer(mi_mape),\n",
        "                    n_jobs=-1)\n",
        "\n",
        "grid.fit(X_train, y_train)\n",
        "print(\"Best parameter (CV score=%0.3f):\" % grid.best_score_)\n",
        "print(grid.best_params_)"
      ],
      "metadata": {
        "id": "-YiSnt9t8RfN",
        "colab": {
          "base_uri": "https://localhost:8080/"
        },
        "outputId": "94fd9cb9-8b64-48d2-cbf2-73c73db8a491"
      },
      "execution_count": 42,
      "outputs": [
        {
          "output_type": "stream",
          "name": "stdout",
          "text": [
            "Best parameter (CV score=0.891):\n",
            "{'m__regressor__fit_intercept': 'True'}\n"
          ]
        }
      ]
    },
    {
      "cell_type": "code",
      "source": [
        "modelo_LR = LinearRegression(fit_intercept='True')\n",
        "\n",
        "\n",
        "pipeline = Pipeline(steps=[('ct',columnasTransformer),('m',TransformedTargetRegressor(regressor=modelo_LR, func= np.log,inverse_func=np.exp))])\n",
        "pipeline.fit(X_train, y_train)\n",
        "importance = permutation_importance(pipeline, X_train, y_train, n_repeats=11)\n",
        "\n",
        "for i,v in enumerate(importance['importances_mean']):\n",
        "\tprint('Feature: %0d, Score: %.5f' % (i,v))\n",
        " \n",
        "plt.bar([x for x in range(len(importance['importances_mean']))], importance['importances_mean'])\n",
        "plt.show()"
      ],
      "metadata": {
        "id": "2iRA78ZC8Rbm",
        "colab": {
          "base_uri": "https://localhost:8080/",
          "height": 387
        },
        "outputId": "6669c697-e788-481d-ec3e-f6a8615b737f"
      },
      "execution_count": 44,
      "outputs": [
        {
          "output_type": "stream",
          "name": "stdout",
          "text": [
            "Feature: 0, Score: 0.07474\n",
            "Feature: 1, Score: 0.60177\n",
            "Feature: 2, Score: 0.00095\n",
            "Feature: 3, Score: 0.10722\n",
            "Feature: 4, Score: -0.00033\n",
            "Feature: 5, Score: -0.00037\n",
            "Feature: 6, Score: 0.00988\n"
          ]
        },
        {
          "output_type": "display_data",
          "data": {
            "text/plain": [
              "<Figure size 576x288 with 1 Axes>"
            ],
            "image/png": "[encoded data removed]"
          },
          "metadata": {}
        }
      ]
    },
    {
      "cell_type": "markdown",
      "source": [
        "#**Ejercicio-12.**"
      ],
      "metadata": {
        "id": "IKW72uyk8Sbc"
      }
    },
    {
      "cell_type": "code",
      "source": [
        "None"
      ],
      "metadata": {
        "id": "gwpz77W38Uq0"
      },
      "execution_count": null,
      "outputs": []
    },
    {
      "cell_type": "code",
      "source": [],
      "metadata": {
        "id": "8v8HL02W8UmW"
      },
      "execution_count": null,
      "outputs": []
    },
    {
      "cell_type": "markdown",
      "source": [
        "###**Fin de la Actividad de la semana 7.**"
      ],
      "metadata": {
        "id": "7ql_r2G-DB_m"
      }
    }
  ]
}