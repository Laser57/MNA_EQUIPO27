{
  "cells": [
    {
      "cell_type": "markdown",
      "metadata": {
        "id": "view-in-github",
        "colab_type": "text"
      },
      "source": [
        "<a href=\"https://colab.research.google.com/github/Laser57/MNA_EQUIPO27/blob/main/TEAM27_MNA_IAyAA_semana_6_Actividad.ipynb\" target=\"_parent\"><img src=\"https://colab.research.google.com/assets/colab-badge.svg\" alt=\"Open In Colab\"/></a>"
      ]
    },
    {
      "cell_type": "markdown",
      "metadata": {
        "id": "VFj0sSM06dYa"
      },
      "source": [
        "#**Maestría en Inteligencia Artificial Aplicada**\n",
        "##**Curso: Inteligencia Artificial y Aprendizaje Automático**\n",
        "###Tecnológico de Monterrey\n",
        "###Prof Luis Eduardo Falcón Morales\n",
        "\n",
        "## **Adtividad de la Semana 6**\n",
        "###**Árboles de decisión y bosque aleatorio.**\n"
      ]
    },
    {
      "cell_type": "markdown",
      "metadata": {
        "id": "Qgrvy0RGB9XI"
      },
      "source": [
        "**Nombres y matrículas de los integrantes del equipo:**\n",
        "\n",
        "*   Luis Alfonso Sabanero Esquivel A01273286\n",
        "*   José Antonio Mendoza Castro    A01794067\n",
        "*   Alan Avelino Fernández Juárez  A00989308\n",
        "*   Miguel Angel Paredes Gutierrez A01794138\n",
        "*   \n"
      ]
    },
    {
      "cell_type": "markdown",
      "metadata": {
        "id": "FrJ2ahMODVj1"
      },
      "source": [
        "En cada sección deberás incluir todas las líneas de código necesarias para responder a cada uno de los ejercicios."
      ]
    },
    {
      "cell_type": "code",
      "execution_count": null,
      "metadata": {
        "id": "exXsscs-Dh-2"
      },
      "outputs": [],
      "source": [
        "# Incluye aquí todos módulos, librerías y paquetes que requieras.\n",
        "import pandas as pd\n",
        "import numpy as np\n",
        "import matplotlib.pyplot as plt \n",
        "import seaborn as sns \n",
        "from sklearn.model_selection import train_test_split\n",
        "\n",
        "from sklearn.pipeline import Pipeline\n",
        "from sklearn.impute import SimpleImputer\n",
        "from sklearn.preprocessing import MinMaxScaler, OneHotEncoder\n",
        "from sklearn.preprocessing import FunctionTransformer\n",
        "from sklearn.compose import ColumnTransformer\n",
        "\n",
        "from sklearn.datasets import make_classification\n",
        "from sklearn.metrics import confusion_matrix\n",
        "from sklearn.model_selection import  cross_validate,  RepeatedStratifiedKFold, cross_val_score\n",
        "from sklearn.metrics import classification_report, make_scorer\n",
        "\n",
        "from sklearn.linear_model import LogisticRegression\n",
        "from sklearn.tree import DecisionTreeClassifier\n",
        "from sklearn.ensemble import RandomForestClassifier\n",
        "from sklearn.model_selection import learning_curve, validation_curve\n",
        "from sklearn.preprocessing import StandardScaler   \n",
        "from sklearn.model_selection import GridSearchCV"
      ]
    },
    {
      "cell_type": "markdown",
      "metadata": {
        "id": "X25brD-gQdZM"
      },
      "source": [
        "#**Ejercicio-1.** "
      ]
    },
    {
      "cell_type": "code",
      "execution_count": null,
      "metadata": {
        "id": "3nU2GuWYCy6C",
        "outputId": "8084f35e-7f8d-41d6-b4c3-f9e2f32e9c65"
      },
      "outputs": [
        {
          "data": {
            "text/html": [
              "<div>\n",
              "<style scoped>\n",
              "    .dataframe tbody tr th:only-of-type {\n",
              "        vertical-align: middle;\n",
              "    }\n",
              "\n",
              "    .dataframe tbody tr th {\n",
              "        vertical-align: top;\n",
              "    }\n",
              "\n",
              "    .dataframe thead th {\n",
              "        text-align: right;\n",
              "    }\n",
              "</style>\n",
              "<table border=\"1\" class=\"dataframe\">\n",
              "  <thead>\n",
              "    <tr style=\"text-align: right;\">\n",
              "      <th></th>\n",
              "      <th>laufkont</th>\n",
              "      <th>laufzeit</th>\n",
              "      <th>moral</th>\n",
              "      <th>verw</th>\n",
              "      <th>hoehe</th>\n",
              "      <th>sparkont</th>\n",
              "      <th>beszeit</th>\n",
              "      <th>rate</th>\n",
              "      <th>famges</th>\n",
              "      <th>buerge</th>\n",
              "      <th>...</th>\n",
              "      <th>verm</th>\n",
              "      <th>alter</th>\n",
              "      <th>weitkred</th>\n",
              "      <th>wohn</th>\n",
              "      <th>bishkred</th>\n",
              "      <th>beruf</th>\n",
              "      <th>pers</th>\n",
              "      <th>telef</th>\n",
              "      <th>gastarb</th>\n",
              "      <th>kredit</th>\n",
              "    </tr>\n",
              "  </thead>\n",
              "  <tbody>\n",
              "    <tr>\n",
              "      <th>0</th>\n",
              "      <td>1</td>\n",
              "      <td>18</td>\n",
              "      <td>4</td>\n",
              "      <td>2</td>\n",
              "      <td>1049</td>\n",
              "      <td>1</td>\n",
              "      <td>2</td>\n",
              "      <td>4</td>\n",
              "      <td>2</td>\n",
              "      <td>1</td>\n",
              "      <td>...</td>\n",
              "      <td>2</td>\n",
              "      <td>21</td>\n",
              "      <td>3</td>\n",
              "      <td>1</td>\n",
              "      <td>1</td>\n",
              "      <td>3</td>\n",
              "      <td>2</td>\n",
              "      <td>1</td>\n",
              "      <td>2</td>\n",
              "      <td>1</td>\n",
              "    </tr>\n",
              "    <tr>\n",
              "      <th>1</th>\n",
              "      <td>1</td>\n",
              "      <td>9</td>\n",
              "      <td>4</td>\n",
              "      <td>0</td>\n",
              "      <td>2799</td>\n",
              "      <td>1</td>\n",
              "      <td>3</td>\n",
              "      <td>2</td>\n",
              "      <td>3</td>\n",
              "      <td>1</td>\n",
              "      <td>...</td>\n",
              "      <td>1</td>\n",
              "      <td>36</td>\n",
              "      <td>3</td>\n",
              "      <td>1</td>\n",
              "      <td>2</td>\n",
              "      <td>3</td>\n",
              "      <td>1</td>\n",
              "      <td>1</td>\n",
              "      <td>2</td>\n",
              "      <td>1</td>\n",
              "    </tr>\n",
              "    <tr>\n",
              "      <th>2</th>\n",
              "      <td>2</td>\n",
              "      <td>12</td>\n",
              "      <td>2</td>\n",
              "      <td>9</td>\n",
              "      <td>841</td>\n",
              "      <td>2</td>\n",
              "      <td>4</td>\n",
              "      <td>2</td>\n",
              "      <td>2</td>\n",
              "      <td>1</td>\n",
              "      <td>...</td>\n",
              "      <td>1</td>\n",
              "      <td>23</td>\n",
              "      <td>3</td>\n",
              "      <td>1</td>\n",
              "      <td>1</td>\n",
              "      <td>2</td>\n",
              "      <td>2</td>\n",
              "      <td>1</td>\n",
              "      <td>2</td>\n",
              "      <td>1</td>\n",
              "    </tr>\n",
              "    <tr>\n",
              "      <th>3</th>\n",
              "      <td>1</td>\n",
              "      <td>12</td>\n",
              "      <td>4</td>\n",
              "      <td>0</td>\n",
              "      <td>2122</td>\n",
              "      <td>1</td>\n",
              "      <td>3</td>\n",
              "      <td>3</td>\n",
              "      <td>3</td>\n",
              "      <td>1</td>\n",
              "      <td>...</td>\n",
              "      <td>1</td>\n",
              "      <td>39</td>\n",
              "      <td>3</td>\n",
              "      <td>1</td>\n",
              "      <td>2</td>\n",
              "      <td>2</td>\n",
              "      <td>1</td>\n",
              "      <td>1</td>\n",
              "      <td>1</td>\n",
              "      <td>1</td>\n",
              "    </tr>\n",
              "    <tr>\n",
              "      <th>4</th>\n",
              "      <td>1</td>\n",
              "      <td>12</td>\n",
              "      <td>4</td>\n",
              "      <td>0</td>\n",
              "      <td>2171</td>\n",
              "      <td>1</td>\n",
              "      <td>3</td>\n",
              "      <td>4</td>\n",
              "      <td>3</td>\n",
              "      <td>1</td>\n",
              "      <td>...</td>\n",
              "      <td>2</td>\n",
              "      <td>38</td>\n",
              "      <td>1</td>\n",
              "      <td>2</td>\n",
              "      <td>2</td>\n",
              "      <td>2</td>\n",
              "      <td>2</td>\n",
              "      <td>1</td>\n",
              "      <td>1</td>\n",
              "      <td>1</td>\n",
              "    </tr>\n",
              "  </tbody>\n",
              "</table>\n",
              "<p>5 rows × 21 columns</p>\n",
              "</div>"
            ],
            "text/plain": [
              "   laufkont  laufzeit  moral  verw  hoehe  sparkont  beszeit  rate  famges  \\\n",
              "0         1        18      4     2   1049         1        2     4       2   \n",
              "1         1         9      4     0   2799         1        3     2       3   \n",
              "2         2        12      2     9    841         2        4     2       2   \n",
              "3         1        12      4     0   2122         1        3     3       3   \n",
              "4         1        12      4     0   2171         1        3     4       3   \n",
              "\n",
              "   buerge  ...  verm  alter  weitkred  wohn  bishkred  beruf  pers  telef  \\\n",
              "0       1  ...     2     21         3     1         1      3     2      1   \n",
              "1       1  ...     1     36         3     1         2      3     1      1   \n",
              "2       1  ...     1     23         3     1         1      2     2      1   \n",
              "3       1  ...     1     39         3     1         2      2     1      1   \n",
              "4       1  ...     2     38         1     2         2      2     2      1   \n",
              "\n",
              "   gastarb  kredit  \n",
              "0        2       1  \n",
              "1        2       1  \n",
              "2        2       1  \n",
              "3        1       1  \n",
              "4        1       1  \n",
              "\n",
              "[5 rows x 21 columns]"
            ]
          },
          "execution_count": 30,
          "metadata": {},
          "output_type": "execute_result"
        }
      ],
      "source": [
        "df = pd.read_csv('SouthGermanCredit.asc', sep=' ')\n",
        "df.head()"
      ]
    },
    {
      "cell_type": "code",
      "execution_count": null,
      "metadata": {
        "id": "0ulkqXVGCy97"
      },
      "outputs": [],
      "source": [
        "df.rename(columns = {\n",
        "    'laufkont':'status', #categorical\n",
        "    'laufzeit':'duration', #quantitative\n",
        "    'moral':'credit_history', #categorical\n",
        "    'verw':'purpose', #categorical\n",
        "    'hoehe':'amount', #quantitative\n",
        "    'sparkont':'savings',#categorical\n",
        "    'beszeit':'employment_duration', #ordinal\n",
        "    'rate':'installment_rate', #ordinal\n",
        "    'famges':'personal_status_sex', #categorical\n",
        "    'buerge':'other_debtors', #categorical\n",
        "    'wohnzeit':'present_residence', #ordinal\n",
        "    'verm':'property', #ordinal\n",
        "    'alter':'age', #quantitative\n",
        "    'weitkred':'other_installment_plans', #categorical\n",
        "    'wohn':'housing', #categorical\n",
        "    'bishkred':'number_credits', #ordinal\n",
        "    'beruf':'job', #ordinal\n",
        "    'pers':'people_liable', #binary\n",
        "    'telef':'telephone', #binary\n",
        "    'gastarb':'foreign_worker', #binary\n",
        "    'kredit':'credit_risk' #binary\n",
        "}, inplace = True)"
      ]
    },
    {
      "cell_type": "code",
      "execution_count": null,
      "metadata": {
        "id": "rs_EVj1IpUjQ",
        "outputId": "566d71e8-2e93-42e6-f5cd-02d8ca668b90"
      },
      "outputs": [
        {
          "name": "stdout",
          "output_type": "stream",
          "text": [
            "<class 'pandas.core.frame.DataFrame'>\n",
            "RangeIndex: 1000 entries, 0 to 999\n",
            "Data columns (total 21 columns):\n",
            " #   Column                   Non-Null Count  Dtype\n",
            "---  ------                   --------------  -----\n",
            " 0   status                   1000 non-null   int64\n",
            " 1   duration                 1000 non-null   int64\n",
            " 2   credit_history           1000 non-null   int64\n",
            " 3   purpose                  1000 non-null   int64\n",
            " 4   amount                   1000 non-null   int64\n",
            " 5   savings                  1000 non-null   int64\n",
            " 6   employment_duration      1000 non-null   int64\n",
            " 7   installment_rate         1000 non-null   int64\n",
            " 8   personal_status_sex      1000 non-null   int64\n",
            " 9   other_debtors            1000 non-null   int64\n",
            " 10  present_residence        1000 non-null   int64\n",
            " 11  property                 1000 non-null   int64\n",
            " 12  age                      1000 non-null   int64\n",
            " 13  other_installment_plans  1000 non-null   int64\n",
            " 14  housing                  1000 non-null   int64\n",
            " 15  number_credits           1000 non-null   int64\n",
            " 16  job                      1000 non-null   int64\n",
            " 17  people_liable            1000 non-null   int64\n",
            " 18  telephone                1000 non-null   int64\n",
            " 19  foreign_worker           1000 non-null   int64\n",
            " 20  credit_risk              1000 non-null   int64\n",
            "dtypes: int64(21)\n",
            "memory usage: 164.2 KB\n"
          ]
        }
      ],
      "source": [
        "df.info()"
      ]
    },
    {
      "cell_type": "markdown",
      "metadata": {
        "id": "xZhr2hkECzVv"
      },
      "source": [
        "#**Ejercicio-2.**"
      ]
    },
    {
      "cell_type": "code",
      "execution_count": null,
      "metadata": {
        "id": "kGfAoOPkC1PP"
      },
      "outputs": [],
      "source": [
        "X=df.iloc[:,0:20] #Todas menos el credit_risk\n",
        "y=df[\"credit_risk\"] #Para la de salida"
      ]
    },
    {
      "cell_type": "code",
      "execution_count": null,
      "metadata": {
        "id": "GOydw5OGC1MJ"
      },
      "outputs": [],
      "source": [
        "X_train, X_val, y_train, y_val = train_test_split(X, y, train_size=0.85, random_state=10)\n",
        "\n",
        "#y_train.sum() / y_train.shape[0]\n",
        "#Dataset desbalanceado verificar mas tarde"
      ]
    },
    {
      "cell_type": "code",
      "execution_count": null,
      "metadata": {
        "id": "RiOg2EYGpUjR",
        "outputId": "ba97a722-0c55-48c8-a2b9-901dcafdc7b5"
      },
      "outputs": [
        {
          "data": {
            "text/html": [
              "<div>\n",
              "<style scoped>\n",
              "    .dataframe tbody tr th:only-of-type {\n",
              "        vertical-align: middle;\n",
              "    }\n",
              "\n",
              "    .dataframe tbody tr th {\n",
              "        vertical-align: top;\n",
              "    }\n",
              "\n",
              "    .dataframe thead th {\n",
              "        text-align: right;\n",
              "    }\n",
              "</style>\n",
              "<table border=\"1\" class=\"dataframe\">\n",
              "  <thead>\n",
              "    <tr style=\"text-align: right;\">\n",
              "      <th></th>\n",
              "      <th>credit_risk</th>\n",
              "    </tr>\n",
              "  </thead>\n",
              "  <tbody>\n",
              "    <tr>\n",
              "      <th>809</th>\n",
              "      <td>0</td>\n",
              "    </tr>\n",
              "    <tr>\n",
              "      <th>537</th>\n",
              "      <td>1</td>\n",
              "    </tr>\n",
              "    <tr>\n",
              "      <th>344</th>\n",
              "      <td>1</td>\n",
              "    </tr>\n",
              "    <tr>\n",
              "      <th>999</th>\n",
              "      <td>0</td>\n",
              "    </tr>\n",
              "    <tr>\n",
              "      <th>800</th>\n",
              "      <td>0</td>\n",
              "    </tr>\n",
              "    <tr>\n",
              "      <th>...</th>\n",
              "      <td>...</td>\n",
              "    </tr>\n",
              "    <tr>\n",
              "      <th>337</th>\n",
              "      <td>1</td>\n",
              "    </tr>\n",
              "    <tr>\n",
              "      <th>91</th>\n",
              "      <td>1</td>\n",
              "    </tr>\n",
              "    <tr>\n",
              "      <th>80</th>\n",
              "      <td>1</td>\n",
              "    </tr>\n",
              "    <tr>\n",
              "      <th>703</th>\n",
              "      <td>1</td>\n",
              "    </tr>\n",
              "    <tr>\n",
              "      <th>921</th>\n",
              "      <td>0</td>\n",
              "    </tr>\n",
              "  </tbody>\n",
              "</table>\n",
              "<p>850 rows × 1 columns</p>\n",
              "</div>"
            ],
            "text/plain": [
              "     credit_risk\n",
              "809            0\n",
              "537            1\n",
              "344            1\n",
              "999            0\n",
              "800            0\n",
              "..           ...\n",
              "337            1\n",
              "91             1\n",
              "80             1\n",
              "703            1\n",
              "921            0\n",
              "\n",
              "[850 rows x 1 columns]"
            ]
          },
          "execution_count": 35,
          "metadata": {},
          "output_type": "execute_result"
        }
      ],
      "source": [
        "test= pd.DataFrame(y_train).copy()\n",
        "\n",
        "test"
      ]
    },
    {
      "cell_type": "markdown",
      "metadata": {
        "id": "NCunuooTC2W3"
      },
      "source": [
        "#**Ejercicio-3.**"
      ]
    },
    {
      "cell_type": "code",
      "execution_count": null,
      "metadata": {
        "id": "YXlcSWA-C4Dj"
      },
      "outputs": [],
      "source": [
        "#quantitative aka numerica \n",
        "categorical= ['status','credit_history','purpose','savings','personal_status_sex','other_debtors','other_installment_plans','housing']\n",
        "ordinal=['employment_duration','installment_rate','present_residence','property','number_credits','job']\n",
        "quantitative=['duration','amount','age']\n",
        "binary=['people_liable','telephone','foreign_worker']"
      ]
    },
    {
      "cell_type": "code",
      "execution_count": null,
      "metadata": {
        "id": "BKI80-YdC4HN"
      },
      "outputs": [],
      "source": [
        "#consultar actividad semana 2, se opta por transformar logaritmo porque deja la camapana de mejor forma\n",
        "#categoricas aunque no estan vacias por precaucion aquellas vacias que se ponga la moda\n",
        "#numericas que se rellene con la media de momento, minmax scaler para escalar todas al mismo rango\n",
        "# Transformaciones a factores numéricos de entrada:\n",
        "quantitative_pipeline = Pipeline(steps = [('impMean', SimpleImputer(strategy='median')),\n",
        "                                 ('escalaNum', MinMaxScaler(feature_range=(1,2))),\n",
        "                                 ('log',FunctionTransformer(np.log))])   \n",
        "quantitative_pipeline_nombres = quantitative\n",
        "\n",
        "# Transformaciones a factores categóricos de entrada:\n",
        "categorical_pipeline = Pipeline(steps = [('impModa', SimpleImputer(strategy='most_frequent')),\n",
        "                                ('OneHotE', OneHotEncoder(handle_unknown=\"infrequent_if_exist\",drop=\"first\"))])  \n",
        "categorical_pipeline_nombres = categorical\n",
        "\n",
        "catOHE_pipeline = Pipeline(steps = [('impModa', SimpleImputer(strategy='most_frequent')),\n",
        "                                ('OneHotE', OneHotEncoder(handle_unknown=\"infrequent_if_exist\",drop=\"first\"))])\n",
        "catOHE_pipeline_nombres = binary\n",
        "\n",
        "\n",
        "# Conjuntamos las transformaciones numéricas y categóricas que se estarán aplicando a los datos de entrada:\n",
        "columnasTransformer = ColumnTransformer(transformers = [('numpipe', quantitative_pipeline, quantitative_pipeline_nombres),\n",
        "                                                        ('catimp', categorical_pipeline, categorical_pipeline_nombres),\n",
        "                                                        ('catohe', catOHE_pipeline, catOHE_pipeline_nombres)],\n",
        "                                        remainder='passthrough')"
      ]
    },
    {
      "cell_type": "markdown",
      "metadata": {
        "id": "chqk9jIDC5Pq"
      },
      "source": [
        "#**Ejercicio-4.**"
      ]
    },
    {
      "cell_type": "code",
      "execution_count": null,
      "metadata": {
        "id": "RBVSFwK4C6g9"
      },
      "outputs": [],
      "source": [
        "def get_models():\n",
        "  modelos = list()\n",
        "  nombres = list()\n",
        "\n",
        "  # LR - Regresión Logística:\n",
        "  modelos.append(LogisticRegression(max_iter=3000))\n",
        "  nombres.append('LR')\n",
        "\n",
        "  # DT - Árbol de Decisión:\n",
        "  modelos.append(DecisionTreeClassifier())\n",
        "  nombres.append('DT')\n",
        "\n",
        "  # RF - RANDOM FOREST:\n",
        "  modelos.append(RandomForestClassifier())\n",
        "  nombres.append('RF')\n",
        "  \n",
        "  \n",
        "  return modelos, nombres\n",
        "\n",
        "def mi_accuracy(yreal, ypred):\n",
        "  tn, fp, fn, tp = confusion_matrix(yreal, ypred).ravel()\n",
        "  accuracy = (tp+tn)/(tp+tn+fp+fn)\n",
        "  return accuracy\n",
        "\n",
        "def mi_precision(yreal, ypred):\n",
        "  tn, fp, fn, tp = confusion_matrix(yreal, ypred).ravel()\n",
        "  precision = tp/(tp+fp)\n",
        "  return precision\n",
        "\n",
        "  \n",
        "def mi_recall(yreal, ypred):\n",
        "  #VP/VP+FN\n",
        "  cm = confusion_matrix(yreal, ypred) #Primero yreal, segundo pred\n",
        "  VP=cm[1][1]\n",
        "  FN=cm[1][0]\n",
        "\n",
        "  return VP/(VP+FN)\n",
        "\n",
        "def mi_f1(yreal, ypred):\n",
        "  #2vp / 2vp+fp+fn\n",
        "  cm = confusion_matrix(yreal, ypred)\n",
        "  VP=cm[1][1]\n",
        "  FN=cm[1][0]\n",
        "  FP=cm[0][1]\n",
        "  return 2*VP/(2*VP+FN+FP)\n",
        "\n",
        "def mi_gmean(yreal, ypred):\n",
        "  cm=confusion_matrix(yreal,ypred)\n",
        "  recall=mi_recall(yreal, ypred)\n",
        "  especifidad= cm[0][0] /(cm[0][0]+cm[0][1])\n",
        "  gmean = np.sqrt(recall*especifidad)\n",
        "\n",
        "  return gmean"
      ]
    },
    {
      "cell_type": "code",
      "execution_count": null,
      "metadata": {
        "id": "7KXnlNzAC69Y",
        "outputId": "c710a57a-19ed-4320-a48e-647e8a7d3a00"
      },
      "outputs": [
        {
          "name": "stdout",
          "output_type": "stream",
          "text": [
            "LR:\n",
            "Accuracy: 0.757 (0.0277)\n",
            "Precision: 0.797 (0.0270)\n",
            "Recall: 0.879 (0.0326)\n",
            "F1score: 0.836 (0.0187)\n",
            "Gmean: 0.638 (0.0585)\n",
            "\n",
            "LR:\n",
            "train Accuracy: 0.790 (0.0097)\n",
            "train Precision: 0.820 (0.0070)\n",
            "train Recall: 0.898 (0.0081)\n",
            "train F1score: 0.858 (0.0066)\n",
            "train Gmean: 0.694 (0.0144)\n",
            "\n",
            "DT:\n",
            "Accuracy: 0.695 (0.0277)\n",
            "Precision: 0.785 (0.0236)\n",
            "Recall: 0.781 (0.0296)\n",
            "F1score: 0.782 (0.0208)\n",
            "Gmean: 0.618 (0.0438)\n",
            "\n",
            "DT:\n",
            "train Accuracy: 1.000 (0.0000)\n",
            "train Precision: 1.000 (0.0000)\n",
            "train Recall: 1.000 (0.0000)\n",
            "train F1score: 1.000 (0.0000)\n",
            "train Gmean: 1.000 (0.0000)\n",
            "\n",
            "RF:\n",
            "Accuracy: 0.756 (0.0265)\n",
            "Precision: 0.781 (0.0196)\n",
            "Recall: 0.908 (0.0265)\n",
            "F1score: 0.840 (0.0174)\n",
            "Gmean: 0.599 (0.0537)\n",
            "\n",
            "RF:\n",
            "train Accuracy: 1.000 (0.0000)\n",
            "train Precision: 1.000 (0.0000)\n",
            "train Recall: 1.000 (0.0000)\n",
            "train F1score: 1.000 (0.0000)\n",
            "train Gmean: 1.000 (0.0000)\n",
            "\n"
          ]
        }
      ],
      "source": [
        "modelos, nombres = get_models()  # cargamos los modelos a comparar\n",
        "resultados = list()   \n",
        "\n",
        "for i in range(len(modelos)):\n",
        "\n",
        "  pipeline = Pipeline(steps=[('ct',columnasTransformer),('m',modelos[i])])\n",
        "\n",
        "  cv = RepeatedStratifiedKFold(n_splits=5, n_repeats=3, random_state=10) #RANDOM STATE PARA DEBUGEAR \n",
        "\n",
        "  mismetricas =  {\"accuracy\": make_scorer(mi_accuracy),\n",
        "                  \"precision\": make_scorer(mi_precision),\n",
        "                  'F1':make_scorer(mi_f1), \n",
        "                  'recall':make_scorer(mi_recall),\n",
        "                  'gmean':make_scorer(mi_gmean)}\n",
        "\n",
        "  scores = cross_validate(pipeline, X_train, y_train, scoring=mismetricas, cv=cv,return_train_score=True)\n",
        "\n",
        "  resultados.append(scores)\n",
        "\n",
        "  print('%s:\\nAccuracy: %.3f (%.4f)\\nPrecision: %.3f (%.4f)\\nRecall: %.3f (%.4f)\\nF1score: %.3f (%.4f)\\nGmean: %.3f (%.4f)\\n' % (nombres[i],\n",
        "                                                                          np.mean(scores['test_accuracy']),\n",
        "                                                                          np.std(scores['test_accuracy']), \n",
        "                                                                          np.mean(scores['test_precision']),\n",
        "                                                                          np.std(scores['test_precision']), \n",
        "                                                                          np.mean(scores['test_recall']),\n",
        "                                                                          np.std(scores['test_recall']),\n",
        "                                                                          np.mean(scores['test_F1']),\n",
        "                                                                          np.std(scores['test_F1']),\n",
        "                                                                          np.mean(scores['test_gmean']),\n",
        "                                                                          np.std(scores['test_gmean'])\n",
        "                                                                          ))\n",
        "  print('%s:\\ntrain Accuracy: %.3f (%.4f)\\ntrain Precision: %.3f (%.4f)\\ntrain Recall: %.3f (%.4f)\\ntrain F1score: %.3f (%.4f)\\ntrain Gmean: %.3f (%.4f)\\n' % (nombres[i],\n",
        "                                                                          np.mean(scores['train_accuracy']),\n",
        "                                                                          np.std(scores['train_accuracy']), \n",
        "                                                                          np.mean(scores['train_precision']),\n",
        "                                                                          np.std(scores['train_precision']), \n",
        "                                                                          np.mean(scores['train_recall']),\n",
        "                                                                          np.std(scores['train_recall']),\n",
        "                                                                          np.mean(scores['train_F1']),\n",
        "                                                                          np.std(scores['train_F1']),\n",
        "                                                                          np.mean(scores['train_gmean']),\n",
        "                                                                          np.std(scores['train_gmean'])\n",
        "                                                                          ))                                                                    "
      ]
    },
    {
      "cell_type": "code",
      "execution_count": null,
      "metadata": {
        "id": "g8d1mNPnpUjU",
        "outputId": "10559b40-0346-4c79-c7b8-cd2d04596b3e"
      },
      "outputs": [
        {
          "data": {
            "image/png": "[encoded data removed]",
            "text/plain": [
              "<Figure size 576x288 with 1 Axes>"
            ]
          },
          "metadata": {},
          "output_type": "display_data"
        }
      ],
      "source": [
        "#Diagrama de caja\n",
        "sns.set(rc={'figure.figsize':(8,4)})\n",
        "\n",
        "bprecall = list()\n",
        "for i in range(len(resultados)):\n",
        "  rr = resultados[i]['test_recall']\n",
        "  bprecall.append(rr)\n",
        "\n",
        "plt.boxplot(bprecall, labels=nombres, showmeans=True)\n",
        "\n",
        "plt.show()"
      ]
    },
    {
      "cell_type": "code",
      "execution_count": null,
      "metadata": {
        "id": "FWvFu2d3pUjV",
        "outputId": "03722c1f-3422-4c78-fad1-de23ca67ea9f"
      },
      "outputs": [
        {
          "data": {
            "image/png": "[encoded data removed]",
            "text/plain": [
              "<Figure size 576x288 with 1 Axes>"
            ]
          },
          "metadata": {},
          "output_type": "display_data"
        }
      ],
      "source": [
        "#Diagrama de caja\n",
        "sns.set(rc={'figure.figsize':(8,4)})\n",
        "\n",
        "bprecall = list()\n",
        "for i in range(len(resultados)):\n",
        "  rr = resultados[i]['train_recall']\n",
        "  bprecall.append(rr)\n",
        "\n",
        "plt.boxplot(bprecall, labels=nombres, showmeans=True)\n",
        "\n",
        "plt.show()"
      ]
    },
    {
      "cell_type": "code",
      "execution_count": null,
      "metadata": {
        "id": "jPKNCBWopUjV"
      },
      "outputs": [],
      "source": [
        "def mi_LearningCurvePlot(train_sizes, train_scores, val_scores):\n",
        "\n",
        "    train_mean = np.mean(train_scores, axis=1)\n",
        "    train_std = np.std(train_scores, axis=1)\n",
        "    val_mean = np.mean(val_scores, axis=1)\n",
        "    val_std = np.std(val_scores, axis=1)\n",
        "\n",
        "    # Graficamos las curvas de aprendizaje incluyendo una región indicando la desviación estándar.\n",
        "    plt.figure(figsize=(10,10))\n",
        "    plt.plot(train_sizes, train_mean, color='blue', marker='o', markersize=5, label='Training')\n",
        "    plt.fill_between(train_sizes, train_mean + train_std, train_mean - train_std, alpha=0.1, color='blue')\n",
        "    \n",
        "    plt.plot(train_sizes, val_mean, color='red', marker='+', markersize=5, linestyle='--', label='Validation')\n",
        "    plt.fill_between(train_sizes, val_mean + val_std, val_mean - val_std, alpha=0.1, color='red')\n",
        "    \n",
        "    plt.title('Curvas de Aprendizaje incrementando el tamaño de la muestra')\n",
        "    plt.xlabel('Tamaño del conjunto de entrenamiento')\n",
        "    plt.ylabel('Exactitud (accuracy)')\n",
        "    plt.grid()\n",
        "    plt.legend(loc='lower left')\n",
        "    plt.show()\n",
        "\n",
        "def mi_validationCurvePlot(train_scores,valid_scores,param):\n",
        "    train_mean = np.mean(train_scores, axis=1)\n",
        "    train_std = np.std(train_scores, axis=1)\n",
        "    valid_mean = np.mean(valid_scores, axis=1)\n",
        "    valid_std = np.std(valid_scores, axis=1)\n",
        "\n",
        "\n",
        "\n",
        "    plt.plot(param, train_mean, color='blue', marker='o', markersize=5, label='Training')\n",
        "\n",
        "    # Curva de validación:\n",
        "    plt.plot(param, valid_mean, color='red', marker='o', markersize=5, label='Validation')\n",
        "\n",
        "    plt.title('Función validation_curve()')\n",
        "    plt.xlabel('Valores de funcion learning curve')\n",
        "    plt.ylabel('Recall')\n",
        "    plt.grid()\n",
        "    plt.legend(loc='lower right')\n",
        "    plt.show()\n",
        "    return "
      ]
    },
    {
      "cell_type": "code",
      "execution_count": null,
      "metadata": {
        "id": "hmP-lAHBpUjW",
        "outputId": "ef6071ee-101e-4860-c4e4-1c67e884d883"
      },
      "outputs": [
        {
          "name": "stderr",
          "output_type": "stream",
          "text": [
            "/Users/luis/opt/anaconda3/lib/python3.8/site-packages/sklearn/preprocessing/_encoders.py:188: UserWarning: Found unknown categories in columns [1, 2] during transform. These unknown categories will be encoded as all zeros\n",
            "  warnings.warn(\n",
            "/Users/luis/opt/anaconda3/lib/python3.8/site-packages/sklearn/preprocessing/_encoders.py:188: UserWarning: Found unknown categories in columns [1, 2] during transform. These unknown categories will be encoded as all zeros\n",
            "  warnings.warn(\n",
            "/Users/luis/opt/anaconda3/lib/python3.8/site-packages/sklearn/preprocessing/_encoders.py:188: UserWarning: Found unknown categories in columns [1] during transform. These unknown categories will be encoded as all zeros\n",
            "  warnings.warn(\n",
            "/Users/luis/opt/anaconda3/lib/python3.8/site-packages/sklearn/preprocessing/_encoders.py:188: UserWarning: Found unknown categories in columns [1] during transform. These unknown categories will be encoded as all zeros\n",
            "  warnings.warn(\n",
            "/Users/luis/opt/anaconda3/lib/python3.8/site-packages/sklearn/preprocessing/_encoders.py:188: UserWarning: Found unknown categories in columns [1, 2] during transform. These unknown categories will be encoded as all zeros\n",
            "  warnings.warn(\n",
            "/Users/luis/opt/anaconda3/lib/python3.8/site-packages/sklearn/preprocessing/_encoders.py:188: UserWarning: Found unknown categories in columns [2] during transform. These unknown categories will be encoded as all zeros\n",
            "  warnings.warn(\n",
            "/Users/luis/opt/anaconda3/lib/python3.8/site-packages/sklearn/preprocessing/_encoders.py:188: UserWarning: Found unknown categories in columns [2] during transform. These unknown categories will be encoded as all zeros\n",
            "  warnings.warn(\n",
            "/Users/luis/opt/anaconda3/lib/python3.8/site-packages/sklearn/preprocessing/_encoders.py:188: UserWarning: Found unknown categories in columns [2] during transform. These unknown categories will be encoded as all zeros\n",
            "  warnings.warn(\n",
            "/Users/luis/opt/anaconda3/lib/python3.8/site-packages/sklearn/preprocessing/_encoders.py:188: UserWarning: Found unknown categories in columns [2] during transform. These unknown categories will be encoded as all zeros\n",
            "  warnings.warn(\n",
            "/Users/luis/opt/anaconda3/lib/python3.8/site-packages/sklearn/preprocessing/_encoders.py:188: UserWarning: Found unknown categories in columns [2] during transform. These unknown categories will be encoded as all zeros\n",
            "  warnings.warn(\n",
            "/Users/luis/opt/anaconda3/lib/python3.8/site-packages/sklearn/preprocessing/_encoders.py:188: UserWarning: Found unknown categories in columns [2] during transform. These unknown categories will be encoded as all zeros\n",
            "  warnings.warn(\n",
            "/Users/luis/opt/anaconda3/lib/python3.8/site-packages/sklearn/preprocessing/_encoders.py:188: UserWarning: Found unknown categories in columns [2] during transform. These unknown categories will be encoded as all zeros\n",
            "  warnings.warn(\n",
            "/Users/luis/opt/anaconda3/lib/python3.8/site-packages/sklearn/preprocessing/_encoders.py:188: UserWarning: Found unknown categories in columns [2] during transform. These unknown categories will be encoded as all zeros\n",
            "  warnings.warn(\n",
            "/Users/luis/opt/anaconda3/lib/python3.8/site-packages/sklearn/preprocessing/_encoders.py:188: UserWarning: Found unknown categories in columns [2] during transform. These unknown categories will be encoded as all zeros\n",
            "  warnings.warn(\n",
            "/Users/luis/opt/anaconda3/lib/python3.8/site-packages/sklearn/preprocessing/_encoders.py:188: UserWarning: Found unknown categories in columns [1, 2] during transform. These unknown categories will be encoded as all zeros\n",
            "  warnings.warn(\n",
            "/Users/luis/opt/anaconda3/lib/python3.8/site-packages/sklearn/preprocessing/_encoders.py:188: UserWarning: Found unknown categories in columns [2, 5] during transform. These unknown categories will be encoded as all zeros\n",
            "  warnings.warn(\n",
            "/Users/luis/opt/anaconda3/lib/python3.8/site-packages/sklearn/preprocessing/_encoders.py:188: UserWarning: Found unknown categories in columns [2] during transform. These unknown categories will be encoded as all zeros\n",
            "  warnings.warn(\n",
            "/Users/luis/opt/anaconda3/lib/python3.8/site-packages/sklearn/preprocessing/_encoders.py:188: UserWarning: Found unknown categories in columns [1, 2] during transform. These unknown categories will be encoded as all zeros\n",
            "  warnings.warn(\n",
            "/Users/luis/opt/anaconda3/lib/python3.8/site-packages/sklearn/preprocessing/_encoders.py:188: UserWarning: Found unknown categories in columns [2] during transform. These unknown categories will be encoded as all zeros\n",
            "  warnings.warn(\n",
            "/Users/luis/opt/anaconda3/lib/python3.8/site-packages/sklearn/preprocessing/_encoders.py:188: UserWarning: Found unknown categories in columns [1, 2] during transform. These unknown categories will be encoded as all zeros\n",
            "  warnings.warn(\n",
            "/Users/luis/opt/anaconda3/lib/python3.8/site-packages/sklearn/preprocessing/_encoders.py:188: UserWarning: Found unknown categories in columns [2] during transform. These unknown categories will be encoded as all zeros\n",
            "  warnings.warn(\n",
            "/Users/luis/opt/anaconda3/lib/python3.8/site-packages/sklearn/preprocessing/_encoders.py:188: UserWarning: Found unknown categories in columns [2] during transform. These unknown categories will be encoded as all zeros\n",
            "  warnings.warn(\n",
            "/Users/luis/opt/anaconda3/lib/python3.8/site-packages/sklearn/preprocessing/_encoders.py:188: UserWarning: Found unknown categories in columns [2] during transform. These unknown categories will be encoded as all zeros\n",
            "  warnings.warn(\n",
            "/Users/luis/opt/anaconda3/lib/python3.8/site-packages/sklearn/preprocessing/_encoders.py:188: UserWarning: Found unknown categories in columns [2] during transform. These unknown categories will be encoded as all zeros\n",
            "  warnings.warn(\n",
            "/Users/luis/opt/anaconda3/lib/python3.8/site-packages/sklearn/preprocessing/_encoders.py:188: UserWarning: Found unknown categories in columns [2] during transform. These unknown categories will be encoded as all zeros\n",
            "  warnings.warn(\n",
            "/Users/luis/opt/anaconda3/lib/python3.8/site-packages/sklearn/preprocessing/_encoders.py:188: UserWarning: Found unknown categories in columns [1, 2] during transform. These unknown categories will be encoded as all zeros\n",
            "  warnings.warn(\n",
            "/Users/luis/opt/anaconda3/lib/python3.8/site-packages/sklearn/preprocessing/_encoders.py:188: UserWarning: Found unknown categories in columns [1] during transform. These unknown categories will be encoded as all zeros\n",
            "  warnings.warn(\n",
            "/Users/luis/opt/anaconda3/lib/python3.8/site-packages/sklearn/preprocessing/_encoders.py:188: UserWarning: Found unknown categories in columns [1] during transform. These unknown categories will be encoded as all zeros\n",
            "  warnings.warn(\n",
            "/Users/luis/opt/anaconda3/lib/python3.8/site-packages/sklearn/preprocessing/_encoders.py:188: UserWarning: Found unknown categories in columns [1, 2] during transform. These unknown categories will be encoded as all zeros\n",
            "  warnings.warn(\n",
            "/Users/luis/opt/anaconda3/lib/python3.8/site-packages/sklearn/preprocessing/_encoders.py:188: UserWarning: Found unknown categories in columns [1, 2] during transform. These unknown categories will be encoded as all zeros\n",
            "  warnings.warn(\n",
            "/Users/luis/opt/anaconda3/lib/python3.8/site-packages/sklearn/preprocessing/_encoders.py:188: UserWarning: Found unknown categories in columns [2] during transform. These unknown categories will be encoded as all zeros\n",
            "  warnings.warn(\n",
            "/Users/luis/opt/anaconda3/lib/python3.8/site-packages/sklearn/preprocessing/_encoders.py:188: UserWarning: Found unknown categories in columns [1, 2] during transform. These unknown categories will be encoded as all zeros\n",
            "  warnings.warn(\n",
            "/Users/luis/opt/anaconda3/lib/python3.8/site-packages/sklearn/preprocessing/_encoders.py:188: UserWarning: Found unknown categories in columns [1] during transform. These unknown categories will be encoded as all zeros\n",
            "  warnings.warn(\n",
            "/Users/luis/opt/anaconda3/lib/python3.8/site-packages/sklearn/preprocessing/_encoders.py:188: UserWarning: Found unknown categories in columns [1] during transform. These unknown categories will be encoded as all zeros\n",
            "  warnings.warn(\n",
            "/Users/luis/opt/anaconda3/lib/python3.8/site-packages/sklearn/preprocessing/_encoders.py:188: UserWarning: Found unknown categories in columns [1, 2] during transform. These unknown categories will be encoded as all zeros\n",
            "  warnings.warn(\n",
            "/Users/luis/opt/anaconda3/lib/python3.8/site-packages/sklearn/preprocessing/_encoders.py:188: UserWarning: Found unknown categories in columns [1, 2] during transform. These unknown categories will be encoded as all zeros\n",
            "  warnings.warn(\n",
            "/Users/luis/opt/anaconda3/lib/python3.8/site-packages/sklearn/preprocessing/_encoders.py:188: UserWarning: Found unknown categories in columns [2] during transform. These unknown categories will be encoded as all zeros\n",
            "  warnings.warn(\n",
            "/Users/luis/opt/anaconda3/lib/python3.8/site-packages/sklearn/preprocessing/_encoders.py:188: UserWarning: Found unknown categories in columns [2] during transform. These unknown categories will be encoded as all zeros\n",
            "  warnings.warn(\n",
            "/Users/luis/opt/anaconda3/lib/python3.8/site-packages/sklearn/preprocessing/_encoders.py:188: UserWarning: Found unknown categories in columns [2] during transform. These unknown categories will be encoded as all zeros\n",
            "  warnings.warn(\n",
            "/Users/luis/opt/anaconda3/lib/python3.8/site-packages/sklearn/preprocessing/_encoders.py:188: UserWarning: Found unknown categories in columns [2] during transform. These unknown categories will be encoded as all zeros\n",
            "  warnings.warn(\n",
            "/Users/luis/opt/anaconda3/lib/python3.8/site-packages/sklearn/preprocessing/_encoders.py:188: UserWarning: Found unknown categories in columns [2] during transform. These unknown categories will be encoded as all zeros\n",
            "  warnings.warn(\n",
            "/Users/luis/opt/anaconda3/lib/python3.8/site-packages/sklearn/preprocessing/_encoders.py:188: UserWarning: Found unknown categories in columns [1, 2] during transform. These unknown categories will be encoded as all zeros\n",
            "  warnings.warn(\n"
          ]
        },
        {
          "data": {
            "image/png": "[encoded data removed]",
            "text/plain": [
              "<Figure size 720x720 with 1 Axes>"
            ]
          },
          "metadata": {},
          "output_type": "display_data"
        }
      ],
      "source": [
        "\n",
        "pipeline = Pipeline(steps=[('ct',columnasTransformer),('m',modelos[0])])\n",
        "\n",
        "delta_train_sz = np.linspace(0.1,1,20)\n",
        "cv = RepeatedStratifiedKFold(n_splits=5, n_repeats=3, random_state=10) #RANDOM STATE PARA DEBUGEAR \n",
        "\n",
        "tr_sizes, tr_scores, val_scores = learning_curve(estimator = pipeline,    \n",
        "                                                 X = X_train,\n",
        "                                                 y = y_train,\n",
        "                                                 cv = cv ,\n",
        "                                                 scoring=make_scorer(mi_f1),\n",
        "                                                 train_sizes = delta_train_sz ,\n",
        "                                                 random_state=10)\n",
        "\n",
        "# Obtenemos el gráfico con las curvas de aprendizaje:\n",
        "mi_LearningCurvePlot(tr_sizes, tr_scores, val_scores)"
      ]
    },
    {
      "cell_type": "code",
      "execution_count": null,
      "metadata": {
        "id": "t_E3yLl2pUjW",
        "outputId": "b73ab964-c9b8-4300-b960-0b38a0ce60f8"
      },
      "outputs": [
        {
          "name": "stderr",
          "output_type": "stream",
          "text": [
            "/Users/luis/opt/anaconda3/lib/python3.8/site-packages/sklearn/preprocessing/_encoders.py:188: UserWarning: Found unknown categories in columns [5] during transform. These unknown categories will be encoded as all zeros\n",
            "  warnings.warn(\n",
            "/Users/luis/opt/anaconda3/lib/python3.8/site-packages/sklearn/preprocessing/_encoders.py:188: UserWarning: Found unknown categories in columns [5] during transform. These unknown categories will be encoded as all zeros\n",
            "  warnings.warn(\n",
            "/Users/luis/opt/anaconda3/lib/python3.8/site-packages/sklearn/preprocessing/_encoders.py:188: UserWarning: Found unknown categories in columns [5] during transform. These unknown categories will be encoded as all zeros\n",
            "  warnings.warn(\n",
            "/Users/luis/opt/anaconda3/lib/python3.8/site-packages/sklearn/preprocessing/_encoders.py:188: UserWarning: Found unknown categories in columns [5] during transform. These unknown categories will be encoded as all zeros\n",
            "  warnings.warn(\n",
            "/Users/luis/opt/anaconda3/lib/python3.8/site-packages/sklearn/preprocessing/_encoders.py:188: UserWarning: Found unknown categories in columns [5] during transform. These unknown categories will be encoded as all zeros\n",
            "  warnings.warn(\n",
            "/Users/luis/opt/anaconda3/lib/python3.8/site-packages/sklearn/preprocessing/_encoders.py:188: UserWarning: Found unknown categories in columns [5] during transform. These unknown categories will be encoded as all zeros\n",
            "  warnings.warn(\n",
            "/Users/luis/opt/anaconda3/lib/python3.8/site-packages/sklearn/preprocessing/_encoders.py:188: UserWarning: Found unknown categories in columns [5] during transform. These unknown categories will be encoded as all zeros\n",
            "  warnings.warn(\n",
            "/Users/luis/opt/anaconda3/lib/python3.8/site-packages/sklearn/preprocessing/_encoders.py:188: UserWarning: Found unknown categories in columns [5] during transform. These unknown categories will be encoded as all zeros\n",
            "  warnings.warn(\n",
            "/Users/luis/opt/anaconda3/lib/python3.8/site-packages/sklearn/preprocessing/_encoders.py:188: UserWarning: Found unknown categories in columns [5] during transform. These unknown categories will be encoded as all zeros\n",
            "  warnings.warn(\n",
            "/Users/luis/opt/anaconda3/lib/python3.8/site-packages/sklearn/preprocessing/_encoders.py:188: UserWarning: Found unknown categories in columns [5] during transform. These unknown categories will be encoded as all zeros\n",
            "  warnings.warn(\n",
            "/Users/luis/opt/anaconda3/lib/python3.8/site-packages/sklearn/preprocessing/_encoders.py:188: UserWarning: Found unknown categories in columns [5] during transform. These unknown categories will be encoded as all zeros\n",
            "  warnings.warn(\n",
            "/Users/luis/opt/anaconda3/lib/python3.8/site-packages/sklearn/preprocessing/_encoders.py:188: UserWarning: Found unknown categories in columns [5] during transform. These unknown categories will be encoded as all zeros\n",
            "  warnings.warn(\n",
            "/Users/luis/opt/anaconda3/lib/python3.8/site-packages/sklearn/preprocessing/_encoders.py:188: UserWarning: Found unknown categories in columns [5] during transform. These unknown categories will be encoded as all zeros\n",
            "  warnings.warn(\n",
            "/Users/luis/opt/anaconda3/lib/python3.8/site-packages/sklearn/preprocessing/_encoders.py:188: UserWarning: Found unknown categories in columns [5] during transform. These unknown categories will be encoded as all zeros\n",
            "  warnings.warn(\n",
            "/Users/luis/opt/anaconda3/lib/python3.8/site-packages/sklearn/preprocessing/_encoders.py:188: UserWarning: Found unknown categories in columns [5] during transform. These unknown categories will be encoded as all zeros\n",
            "  warnings.warn(\n",
            "/Users/luis/opt/anaconda3/lib/python3.8/site-packages/sklearn/preprocessing/_encoders.py:188: UserWarning: Found unknown categories in columns [5] during transform. These unknown categories will be encoded as all zeros\n",
            "  warnings.warn(\n",
            "/Users/luis/opt/anaconda3/lib/python3.8/site-packages/sklearn/preprocessing/_encoders.py:188: UserWarning: Found unknown categories in columns [5] during transform. These unknown categories will be encoded as all zeros\n",
            "  warnings.warn(\n",
            "/Users/luis/opt/anaconda3/lib/python3.8/site-packages/sklearn/preprocessing/_encoders.py:188: UserWarning: Found unknown categories in columns [5] during transform. These unknown categories will be encoded as all zeros\n",
            "  warnings.warn(\n",
            "/Users/luis/opt/anaconda3/lib/python3.8/site-packages/sklearn/preprocessing/_encoders.py:188: UserWarning: Found unknown categories in columns [5] during transform. These unknown categories will be encoded as all zeros\n",
            "  warnings.warn(\n",
            "/Users/luis/opt/anaconda3/lib/python3.8/site-packages/sklearn/preprocessing/_encoders.py:188: UserWarning: Found unknown categories in columns [5] during transform. These unknown categories will be encoded as all zeros\n",
            "  warnings.warn(\n"
          ]
        },
        {
          "data": {
            "image/png": "[encoded data removed]",
            "text/plain": [
              "<Figure size 576x288 with 1 Axes>"
            ]
          },
          "metadata": {},
          "output_type": "display_data"
        }
      ],
      "source": [
        "max_depth = np.linspace(1,20,20, dtype=\"int\")\n",
        "pipeline = Pipeline(steps=[('ct',columnasTransformer),('m',modelos[1])])\n",
        "cv = RepeatedStratifiedKFold(n_splits=5, n_repeats=3, random_state=11) #RANDOM STATE PARA DEBUGEAR \n",
        "\n",
        "train_scores, valid_scores = validation_curve(pipeline, \n",
        "                                              X_val, \n",
        "                                              y_val, \n",
        "                                              param_name=\"m__max_depth\", \n",
        "                                              param_range=max_depth,\n",
        "                                              cv=cv,\n",
        "                                              scoring=make_scorer(mi_f1))\n",
        "\n",
        "mi_validationCurvePlot(train_scores,valid_scores,max_depth)"
      ]
    },
    {
      "cell_type": "code",
      "execution_count": null,
      "metadata": {
        "id": "J8xP_ScPpUjW",
        "outputId": "06f7a034-9d9a-4aaf-d019-b14c399c9e3c"
      },
      "outputs": [
        {
          "name": "stderr",
          "output_type": "stream",
          "text": [
            "/Users/luis/opt/anaconda3/lib/python3.8/site-packages/sklearn/preprocessing/_encoders.py:188: UserWarning: Found unknown categories in columns [1, 2] during transform. These unknown categories will be encoded as all zeros\n",
            "  warnings.warn(\n",
            "/Users/luis/opt/anaconda3/lib/python3.8/site-packages/sklearn/preprocessing/_encoders.py:188: UserWarning: Found unknown categories in columns [1, 2] during transform. These unknown categories will be encoded as all zeros\n",
            "  warnings.warn(\n",
            "/Users/luis/opt/anaconda3/lib/python3.8/site-packages/sklearn/preprocessing/_encoders.py:188: UserWarning: Found unknown categories in columns [1] during transform. These unknown categories will be encoded as all zeros\n",
            "  warnings.warn(\n",
            "/Users/luis/opt/anaconda3/lib/python3.8/site-packages/sklearn/preprocessing/_encoders.py:188: UserWarning: Found unknown categories in columns [1] during transform. These unknown categories will be encoded as all zeros\n",
            "  warnings.warn(\n",
            "/Users/luis/opt/anaconda3/lib/python3.8/site-packages/sklearn/preprocessing/_encoders.py:188: UserWarning: Found unknown categories in columns [1, 2] during transform. These unknown categories will be encoded as all zeros\n",
            "  warnings.warn(\n",
            "/Users/luis/opt/anaconda3/lib/python3.8/site-packages/sklearn/preprocessing/_encoders.py:188: UserWarning: Found unknown categories in columns [2] during transform. These unknown categories will be encoded as all zeros\n",
            "  warnings.warn(\n",
            "/Users/luis/opt/anaconda3/lib/python3.8/site-packages/sklearn/preprocessing/_encoders.py:188: UserWarning: Found unknown categories in columns [2] during transform. These unknown categories will be encoded as all zeros\n",
            "  warnings.warn(\n",
            "/Users/luis/opt/anaconda3/lib/python3.8/site-packages/sklearn/preprocessing/_encoders.py:188: UserWarning: Found unknown categories in columns [2] during transform. These unknown categories will be encoded as all zeros\n",
            "  warnings.warn(\n",
            "/Users/luis/opt/anaconda3/lib/python3.8/site-packages/sklearn/preprocessing/_encoders.py:188: UserWarning: Found unknown categories in columns [2] during transform. These unknown categories will be encoded as all zeros\n",
            "  warnings.warn(\n",
            "/Users/luis/opt/anaconda3/lib/python3.8/site-packages/sklearn/preprocessing/_encoders.py:188: UserWarning: Found unknown categories in columns [2] during transform. These unknown categories will be encoded as all zeros\n",
            "  warnings.warn(\n",
            "/Users/luis/opt/anaconda3/lib/python3.8/site-packages/sklearn/preprocessing/_encoders.py:188: UserWarning: Found unknown categories in columns [2] during transform. These unknown categories will be encoded as all zeros\n",
            "  warnings.warn(\n",
            "/Users/luis/opt/anaconda3/lib/python3.8/site-packages/sklearn/preprocessing/_encoders.py:188: UserWarning: Found unknown categories in columns [2] during transform. These unknown categories will be encoded as all zeros\n",
            "  warnings.warn(\n",
            "/Users/luis/opt/anaconda3/lib/python3.8/site-packages/sklearn/preprocessing/_encoders.py:188: UserWarning: Found unknown categories in columns [2] during transform. These unknown categories will be encoded as all zeros\n",
            "  warnings.warn(\n",
            "/Users/luis/opt/anaconda3/lib/python3.8/site-packages/sklearn/preprocessing/_encoders.py:188: UserWarning: Found unknown categories in columns [2] during transform. These unknown categories will be encoded as all zeros\n",
            "  warnings.warn(\n",
            "/Users/luis/opt/anaconda3/lib/python3.8/site-packages/sklearn/preprocessing/_encoders.py:188: UserWarning: Found unknown categories in columns [1, 2] during transform. These unknown categories will be encoded as all zeros\n",
            "  warnings.warn(\n",
            "/Users/luis/opt/anaconda3/lib/python3.8/site-packages/sklearn/preprocessing/_encoders.py:188: UserWarning: Found unknown categories in columns [2, 5] during transform. These unknown categories will be encoded as all zeros\n",
            "  warnings.warn(\n",
            "/Users/luis/opt/anaconda3/lib/python3.8/site-packages/sklearn/preprocessing/_encoders.py:188: UserWarning: Found unknown categories in columns [2] during transform. These unknown categories will be encoded as all zeros\n",
            "  warnings.warn(\n",
            "/Users/luis/opt/anaconda3/lib/python3.8/site-packages/sklearn/preprocessing/_encoders.py:188: UserWarning: Found unknown categories in columns [1, 2] during transform. These unknown categories will be encoded as all zeros\n",
            "  warnings.warn(\n",
            "/Users/luis/opt/anaconda3/lib/python3.8/site-packages/sklearn/preprocessing/_encoders.py:188: UserWarning: Found unknown categories in columns [2] during transform. These unknown categories will be encoded as all zeros\n",
            "  warnings.warn(\n",
            "/Users/luis/opt/anaconda3/lib/python3.8/site-packages/sklearn/preprocessing/_encoders.py:188: UserWarning: Found unknown categories in columns [1, 2] during transform. These unknown categories will be encoded as all zeros\n",
            "  warnings.warn(\n",
            "/Users/luis/opt/anaconda3/lib/python3.8/site-packages/sklearn/preprocessing/_encoders.py:188: UserWarning: Found unknown categories in columns [2] during transform. These unknown categories will be encoded as all zeros\n",
            "  warnings.warn(\n",
            "/Users/luis/opt/anaconda3/lib/python3.8/site-packages/sklearn/preprocessing/_encoders.py:188: UserWarning: Found unknown categories in columns [2] during transform. These unknown categories will be encoded as all zeros\n",
            "  warnings.warn(\n",
            "/Users/luis/opt/anaconda3/lib/python3.8/site-packages/sklearn/preprocessing/_encoders.py:188: UserWarning: Found unknown categories in columns [2] during transform. These unknown categories will be encoded as all zeros\n",
            "  warnings.warn(\n",
            "/Users/luis/opt/anaconda3/lib/python3.8/site-packages/sklearn/preprocessing/_encoders.py:188: UserWarning: Found unknown categories in columns [2] during transform. These unknown categories will be encoded as all zeros\n",
            "  warnings.warn(\n",
            "/Users/luis/opt/anaconda3/lib/python3.8/site-packages/sklearn/preprocessing/_encoders.py:188: UserWarning: Found unknown categories in columns [2] during transform. These unknown categories will be encoded as all zeros\n",
            "  warnings.warn(\n",
            "/Users/luis/opt/anaconda3/lib/python3.8/site-packages/sklearn/preprocessing/_encoders.py:188: UserWarning: Found unknown categories in columns [1, 2] during transform. These unknown categories will be encoded as all zeros\n",
            "  warnings.warn(\n",
            "/Users/luis/opt/anaconda3/lib/python3.8/site-packages/sklearn/preprocessing/_encoders.py:188: UserWarning: Found unknown categories in columns [1] during transform. These unknown categories will be encoded as all zeros\n",
            "  warnings.warn(\n",
            "/Users/luis/opt/anaconda3/lib/python3.8/site-packages/sklearn/preprocessing/_encoders.py:188: UserWarning: Found unknown categories in columns [1] during transform. These unknown categories will be encoded as all zeros\n",
            "  warnings.warn(\n",
            "/Users/luis/opt/anaconda3/lib/python3.8/site-packages/sklearn/preprocessing/_encoders.py:188: UserWarning: Found unknown categories in columns [1, 2] during transform. These unknown categories will be encoded as all zeros\n",
            "  warnings.warn(\n",
            "/Users/luis/opt/anaconda3/lib/python3.8/site-packages/sklearn/preprocessing/_encoders.py:188: UserWarning: Found unknown categories in columns [1, 2] during transform. These unknown categories will be encoded as all zeros\n",
            "  warnings.warn(\n",
            "/Users/luis/opt/anaconda3/lib/python3.8/site-packages/sklearn/preprocessing/_encoders.py:188: UserWarning: Found unknown categories in columns [2] during transform. These unknown categories will be encoded as all zeros\n",
            "  warnings.warn(\n",
            "/Users/luis/opt/anaconda3/lib/python3.8/site-packages/sklearn/preprocessing/_encoders.py:188: UserWarning: Found unknown categories in columns [1, 2] during transform. These unknown categories will be encoded as all zeros\n",
            "  warnings.warn(\n",
            "/Users/luis/opt/anaconda3/lib/python3.8/site-packages/sklearn/preprocessing/_encoders.py:188: UserWarning: Found unknown categories in columns [1] during transform. These unknown categories will be encoded as all zeros\n",
            "  warnings.warn(\n",
            "/Users/luis/opt/anaconda3/lib/python3.8/site-packages/sklearn/preprocessing/_encoders.py:188: UserWarning: Found unknown categories in columns [1] during transform. These unknown categories will be encoded as all zeros\n",
            "  warnings.warn(\n",
            "/Users/luis/opt/anaconda3/lib/python3.8/site-packages/sklearn/preprocessing/_encoders.py:188: UserWarning: Found unknown categories in columns [1, 2] during transform. These unknown categories will be encoded as all zeros\n",
            "  warnings.warn(\n",
            "/Users/luis/opt/anaconda3/lib/python3.8/site-packages/sklearn/preprocessing/_encoders.py:188: UserWarning: Found unknown categories in columns [1, 2] during transform. These unknown categories will be encoded as all zeros\n",
            "  warnings.warn(\n",
            "/Users/luis/opt/anaconda3/lib/python3.8/site-packages/sklearn/preprocessing/_encoders.py:188: UserWarning: Found unknown categories in columns [2] during transform. These unknown categories will be encoded as all zeros\n",
            "  warnings.warn(\n",
            "/Users/luis/opt/anaconda3/lib/python3.8/site-packages/sklearn/preprocessing/_encoders.py:188: UserWarning: Found unknown categories in columns [2] during transform. These unknown categories will be encoded as all zeros\n",
            "  warnings.warn(\n",
            "/Users/luis/opt/anaconda3/lib/python3.8/site-packages/sklearn/preprocessing/_encoders.py:188: UserWarning: Found unknown categories in columns [2] during transform. These unknown categories will be encoded as all zeros\n",
            "  warnings.warn(\n",
            "/Users/luis/opt/anaconda3/lib/python3.8/site-packages/sklearn/preprocessing/_encoders.py:188: UserWarning: Found unknown categories in columns [2] during transform. These unknown categories will be encoded as all zeros\n",
            "  warnings.warn(\n",
            "/Users/luis/opt/anaconda3/lib/python3.8/site-packages/sklearn/preprocessing/_encoders.py:188: UserWarning: Found unknown categories in columns [2] during transform. These unknown categories will be encoded as all zeros\n",
            "  warnings.warn(\n",
            "/Users/luis/opt/anaconda3/lib/python3.8/site-packages/sklearn/preprocessing/_encoders.py:188: UserWarning: Found unknown categories in columns [1, 2] during transform. These unknown categories will be encoded as all zeros\n",
            "  warnings.warn(\n"
          ]
        },
        {
          "data": {
            "image/png": "[encoded data removed]",
            "text/plain": [
              "<Figure size 720x720 with 1 Axes>"
            ]
          },
          "metadata": {},
          "output_type": "display_data"
        }
      ],
      "source": [
        "pipeline = Pipeline(steps=[('ct',columnasTransformer),('m',modelos[2])])\n",
        "\n",
        "delta_train_sz = np.linspace(0.1,1,20)\n",
        "cv = RepeatedStratifiedKFold(n_splits=5, n_repeats=3, random_state=10) #RANDOM STATE PARA DEBUGEAR \n",
        "\n",
        "tr_sizes, tr_scores, val_scores = learning_curve(estimator = pipeline ,    \n",
        "                                                 X = X_train,\n",
        "                                                 y = y_train,\n",
        "                                                 cv = cv ,\n",
        "                                                 scoring=make_scorer(mi_recall),\n",
        "                                                 train_sizes = delta_train_sz ,\n",
        "                                                 random_state=10)\n",
        "\n",
        "# Obtenemos el gráfico con las curvas de aprendizaje:\n",
        "mi_LearningCurvePlot(tr_sizes, tr_scores, val_scores)"
      ]
    },
    {
      "cell_type": "markdown",
      "metadata": {
        "id": "Rv7KFq-mC7PS"
      },
      "source": [
        "#**Ejercicio-5.**"
      ]
    },
    {
      "cell_type": "code",
      "execution_count": null,
      "metadata": {
        "id": "jaDj3kawC9B6"
      },
      "outputs": [],
      "source": [
        "kfold = RepeatedStratifiedKFold(n_splits=5, n_repeats=3)\n",
        "pipeline = Pipeline(steps=[('ct',columnasTransformer),('m',modelos[0])])\n",
        "\n",
        "param_grid = {\n",
        "    'm__C':[0.0001,0.01,0.1,1.0,10.,100.],\n",
        "    'm__solver':['liblinear', 'saga'],\n",
        "    'm__class_weight': ['balanced', None],\n",
        "    'm__penalty': ['l1', 'l2']\n",
        "}\n",
        "\n",
        "grid = GridSearchCV(estimator=pipeline,\n",
        "                    param_grid=param_grid,\n",
        "                    cv=kfold,\n",
        "                    scoring=make_scorer(mi_f1))\n",
        "\n",
        "grid.fit(X_train, y_train)\n",
        "\n",
        "print('Mejor valor de exactitud obtenido con la mejor combinación:', grid.best_score_)\n",
        "print('Mejor combinación de valores encontrados de los hiperparámetros:', grid.best_params_)\n",
        "print('Métrica utilizada:', grid.scoring)\n",
        "\n",
        "modelo = LogisticRegression(max_iter=10000, random_state=1, C=1.0, class_weight=None, penalty='l2', solver='liblinear')\n",
        "kfold = RepeatedStratifiedKFold(n_splits=5, n_repeats=3)\n",
        "pipeline = Pipeline(steps=[('ct',columnasTransformer),('m',modelo)])\n",
        "delta_train_sz = np.linspace(0.1, 1.0, num=20)\n",
        "tr_sizes, tr_scores, val_scores = learning_curve(\n",
        "  estimator = pipeline ,    \n",
        "  X = Xtv,\n",
        "  y = ytv,\n",
        "  cv = kfold ,\n",
        "  scoring='f1',\n",
        "  train_sizes = delta_train_sz,\n",
        "  random_state=11\n",
        ")\n",
        "mi_LearningCurvePlot(tr_sizes, tr_scores, val_scores)"
      ]
    },
    {
      "cell_type": "code",
      "execution_count": null,
      "metadata": {
        "id": "4tQxQROVC9Us"
      },
      "outputs": [],
      "source": [
        "kfold = RepeatedStratifiedKFold(n_splits=5, n_repeats=3)\n",
        "pipeline = Pipeline(steps=[('ct',columnasTransformer),('m',modelos[1])])\n",
        "\n",
        "param_grid = {\n",
        "    'm__ccp_alpha':[0.0001,0.01,0.1,1.0,10.,100.],\n",
        "    'm__criterion':['gini', 'entropy', 'log_loss'],\n",
        "    'm__max_depth': [0.0001,0.01,0.1,1.0,10.,100.],\n",
        "    'm__min_samples_split': [0.0001,0.01,0.1,1.0],\n",
        "    'm__class_weight': ['balanced', None]\n",
        "}\n",
        "\n",
        "grid = GridSearchCV(estimator=pipeline,\n",
        "                    param_grid=param_grid,\n",
        "                    cv=kfold,\n",
        "                    scoring='precision')\n",
        "\n",
        "grid.fit(Xtv, ytv)\n",
        "\n",
        "print('Mejor valor de exactitud obtenido con la mejor combinación:', grid.best_score_)\n",
        "print('Mejor combinación de valores encontrados de los hiperparámetros:', grid.best_params_)\n",
        "print('Métrica utilizada:', grid.scoring)\n",
        "\n",
        "modelo = DecisionTreeClassifier(ccp_alpha=0.0001, class_weight='balanced', criterion='gini', max_depth=1.0, min_samples_split=0.0001)\n",
        "kfold = RepeatedStratifiedKFold(n_splits=5, n_repeats=3)\n",
        "pipeline = Pipeline(steps=[('ct',columnasTransformer),('m',modelo)])\n",
        "delta_train_sz = np.linspace(0.1, 1.0, num=20)\n",
        "tr_sizes, tr_scores, val_scores = learning_curve(\n",
        "  estimator = pipeline ,    \n",
        "  X = Xtv,\n",
        "  y = ytv,\n",
        "  cv = kfold ,\n",
        "  scoring='f1',\n",
        "  train_sizes = delta_train_sz,\n",
        "  random_state=11\n",
        ")\n",
        "mi_LearningCurvePlot(tr_sizes, tr_scores, val_scores)"
      ]
    },
    {
      "cell_type": "markdown",
      "metadata": {
        "id": "W2S7LI0NC9wE"
      },
      "source": [
        "#**Ejercicio-6.**"
      ]
    },
    {
      "cell_type": "code",
      "execution_count": null,
      "metadata": {
        "id": "x6uBleJUC_AU"
      },
      "outputs": [],
      "source": [
        "None"
      ]
    },
    {
      "cell_type": "code",
      "execution_count": null,
      "metadata": {
        "id": "n0P_AcyjC_Dh"
      },
      "outputs": [],
      "source": []
    },
    {
      "cell_type": "markdown",
      "metadata": {
        "id": "7ql_r2G-DB_m"
      },
      "source": [
        "###**Fin de la Actividad de la semana 6.**"
      ]
    }
  ],
  "metadata": {
    "colab": {
      "collapsed_sections": [],
      "provenance": [],
      "include_colab_link": true
    },
    "kernelspec": {
      "display_name": "Python 3.8.8 ('base')",
      "language": "python",
      "name": "python3"
    },
    "language_info": {
      "codemirror_mode": {
        "name": "ipython",
        "version": 3
      },
      "file_extension": ".py",
      "mimetype": "text/x-python",
      "name": "python",
      "nbconvert_exporter": "python",
      "pygments_lexer": "ipython3",
      "version": "3.8.8"
    },
    "vscode": {
      "interpreter": {
        "hash": "c52da4db0cc24982f172e6f7976463ee5edeec35eac07f0e6ceac694ec92108f"
      }
    }
  },
  "nbformat": 4,
  "nbformat_minor": 0
}